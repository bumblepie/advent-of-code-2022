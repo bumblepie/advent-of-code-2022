{
 "cells": [
  {
   "cell_type": "markdown",
   "metadata": {},
   "source": [
    "--- Day 8: Treetop Tree House ---\n",
    "\n",
    "The expedition comes across a peculiar patch of tall trees all planted carefully in a grid. The Elves explain that a previous expedition planted these trees as a reforestation effort. Now, they're curious if this would be a good location for a tree house.\n",
    "\n",
    "First, determine whether there is enough tree cover here to keep a tree house hidden. To do this, you need to count the number of trees that are visible from outside the grid when looking directly along a row or column.\n",
    "\n",
    "The Elves have already launched a quadcopter to generate a map with the height of each tree (your puzzle input). For example:\n",
    "```\n",
    "30373\n",
    "25512\n",
    "65332\n",
    "33549\n",
    "35390\n",
    "```\n",
    "Each tree is represented as a single digit whose value is its height, where 0 is the shortest and 9 is the tallest.\n",
    "\n",
    "A tree is visible if all of the other trees between it and an edge of the grid are shorter than it. Only consider trees in the same row or column; that is, only look up, down, left, or right from any given tree.\n",
    "\n",
    "All of the trees around the edge of the grid are visible - since they are already on the edge, there are no trees to block the view. In this example, that only leaves the interior nine trees to consider:\n",
    "\n",
    "    The top-left 5 is visible from the left and top. (It isn't visible from the right or bottom since other trees of height 5 are in the way.)\n",
    "    The top-middle 5 is visible from the top and right.\n",
    "    The top-right 1 is not visible from any direction; for it to be visible, there would need to only be trees of height 0 between it and an edge.\n",
    "    The left-middle 5 is visible, but only from the right.\n",
    "    The center 3 is not visible from any direction; for it to be visible, there would need to be only trees of at most height 2 between it and an edge.\n",
    "    The right-middle 3 is visible from the right.\n",
    "    In the bottom row, the middle 5 is visible, but the 3 and 4 are not.\n",
    "\n",
    "With 16 trees visible on the edge and another 5 visible in the interior, a total of 21 trees are visible in this arrangement.\n",
    "\n",
    "Consider your map; how many trees are visible from outside the grid?\n"
   ]
  },
  {
   "cell_type": "code",
   "execution_count": 158,
   "metadata": {
    "dotnet_interactive": {
     "language": "csharp"
    },
    "vscode": {
     "languageId": "dotnet-interactive.csharp"
    }
   },
   "outputs": [],
   "source": [
    "public record struct Position {\n",
    "    public int X;\n",
    "    public int Y;\n",
    "}\n",
    "\n",
    "Dictionary<Position, int> ParseTrees(IEnumerable<string> input) {\n",
    "    return input.SelectMany((row, y) => row.ToCharArray()\n",
    "        .Select((height, x) => new { Position = new Position { X = x, Y = y }, Height = int.Parse($\"{height}\") })\n",
    "    ).ToDictionary(tree => tree.Position, tree => tree.Height);\n",
    "}\n",
    "\n",
    "bool IsVisible(KeyValuePair<Position, int> tree, Dictionary<Position, int> trees) {\n",
    "    var position = tree.Key;\n",
    "    var height = tree.Value;\n",
    "    var higherTrees = trees.Where(other => other.Value >= height);\n",
    "    var topTrees = higherTrees.Where(other => position.X == other.Key.X && position.Y > other.Key.Y);\n",
    "    if (!topTrees.Any()) {\n",
    "        count += 1;\n",
    "        return true;\n",
    "    }\n",
    "    var bottomTrees = higherTrees.Where(other => position.X == other.Key.X && position.Y < other.Key.Y);\n",
    "    if (!bottomTrees.Any()) {\n",
    "        count += 1;\n",
    "        return true;\n",
    "    }\n",
    "    var leftTrees = higherTrees.Where(other => position.Y == other.Key.Y && position.X > other.Key.X);\n",
    "    if (!leftTrees.Any()) {\n",
    "        count += 1;\n",
    "        return true;\n",
    "    }\n",
    "    var rightTrees = higherTrees.Where(other => position.Y == other.Key.Y && position.X < other.Key.X);\n",
    "    if (!rightTrees.Any()) {\n",
    "        count += 1;\n",
    "        return true;\n",
    "    }\n",
    "    return false;\n",
    "}\n",
    "\n",
    "int ScenicScore(KeyValuePair<Position, int> tree, Dictionary<Position, int> trees, int maxWidth, int maxHeight) {\n",
    "    var position = tree.Key;\n",
    "    var height = tree.Value;\n",
    "    var higherTrees = trees.Where(other => other.Value >= height);\n",
    "    var viewingScore = 1;\n",
    "\n",
    "    var topTrees = higherTrees.Where(other => position.X == other.Key.X && position.Y > other.Key.Y)\n",
    "        .OrderByDescending(other => other.Key.Y);\n",
    "    if (topTrees.Any()) {\n",
    "        var diff = position.Y - topTrees.First().Key.Y;\n",
    "        viewingScore = viewingScore * diff;\n",
    "    } else {\n",
    "        viewingScore = viewingScore * position.Y;\n",
    "    }\n",
    "\n",
    "    var bottomTrees = higherTrees.Where(other => position.X == other.Key.X && position.Y < other.Key.Y)\n",
    "        .OrderBy(other => other.Key.Y);;\n",
    "    if (bottomTrees.Any()) {\n",
    "        var diff = bottomTrees.First().Key.Y - position.Y;\n",
    "        viewingScore = viewingScore * diff;\n",
    "    } else {\n",
    "        viewingScore = viewingScore * (maxHeight - position.Y);\n",
    "    }\n",
    "\n",
    "    var leftTrees = higherTrees.Where(other => position.Y == other.Key.Y && position.X > other.Key.X)\n",
    "        .OrderByDescending(other => other.Key.X);;\n",
    "    if (leftTrees.Any()) {\n",
    "        var diff = position.X - leftTrees.First().Key.X;\n",
    "        viewingScore = viewingScore * diff;\n",
    "    } else {\n",
    "        viewingScore = viewingScore * position.X;\n",
    "    }\n",
    "\n",
    "    var rightTrees = higherTrees.Where(other => position.Y == other.Key.Y && position.X < other.Key.X)\n",
    "        .OrderBy(other => other.Key.X);\n",
    "    if (rightTrees.Any()) {\n",
    "        var diff = rightTrees.First().Key.X - position.X;\n",
    "        viewingScore = viewingScore * diff;\n",
    "    } else {\n",
    "        viewingScore = viewingScore * (maxWidth - position.X);\n",
    "    }\n",
    "    \n",
    "    return viewingScore;\n",
    "}"
   ]
  },
  {
   "cell_type": "code",
   "execution_count": 159,
   "metadata": {
    "dotnet_interactive": {
     "language": "csharp"
    },
    "vscode": {
     "languageId": "dotnet-interactive.csharp"
    }
   },
   "outputs": [
    {
     "data": {
      "text/html": [
       "<table><thead><tr><th><i>index</i></th><th>value</th></tr></thead><tbody><tr><td>0</td><td>122102002221220113213120331300324403204320144533424135412222404323003104143241322330203332311001201</td></tr><tr><td>1</td><td>122101021201100333103013020111134433225413441345223355455242454420324041424144143320331213313011211</td></tr><tr><td>2</td><td>002020102202133322040121034302303042143134335334145322255225234524340004204432223232112102301322020</td></tr><tr><td>3</td><td>220012312123310100132111431130112432541411111551552451554212423331432121222413114341113030121331012</td></tr><tr><td>4</td><td>201002212201312002313134042122454351541442441552442121522445315151245342234433410040022122332121102</td></tr><tr><td>5</td><td>022032110101034413122002140132134344355151432255122144512123321252231413241444212332310003201030321</td></tr><tr><td>6</td><td>202221121312021412211244435533212115121444135555133441115332134551132345451112300141040402100300202</td></tr><tr><td>7</td><td>012312220202241130000011113153354512345554455246352624652351411552522235252320220001241023300202002</td></tr><tr><td>8</td><td>012333201303122341124245121245445543543226522355634323552563215553344215343251121231221244211102101</td></tr><tr><td>9</td><td>321301231011002302232325451215424531566442635526336536256234645441454222315444511024423430030333330</td></tr><tr><td>10</td><td>133003322422223002304115312425243455525232535565226423436454233333321535512211142403210421302020033</td></tr><tr><td>11</td><td>101133010023010323543533152214433423352362654562322325233322536523633121145214413250132044411100133</td></tr><tr><td>12</td><td>320221132334300334142255424225345445666343362342664556562225525336544242242512134411121411023431302</td></tr><tr><td>13</td><td>220303334444424011351432244365435464622533322535533646426655434625632334622324221515223224200440022</td></tr><tr><td>14</td><td>221304441214044232254431226254626563623435252665353462634363535462254534545515141433333003012101220</td></tr><tr><td>15</td><td>232021444421003153155555563266552625654464556746467434364574426222364436522543214355422403000441033</td></tr><tr><td>16</td><td>012201023103313335534141242342266633235333737773456366635754757353643562353464411522131503110214013</td></tr><tr><td>17</td><td>001312341320422254534224254526463545477565754347565653364577576546344354353323444331444231021332302</td></tr><tr><td>18</td><td>122314301442525352324344444352624253544367643445553345537646357736556342425322323521153132114042013</td></tr><tr><td>19</td><td>131322304413521551452533624455557357566464547433467466564456657667357636364246536151545131243120104</td></tr><tr><td colspan=\"2\"><i>(79 more)</i></td></tr></tbody></table>"
      ]
     },
     "metadata": {},
     "output_type": "display_data"
    }
   ],
   "source": [
    "var input = System.IO.File.ReadAllLines(@\"input.txt\");\n",
    "input\n"
   ]
  },
  {
   "cell_type": "code",
   "execution_count": 160,
   "metadata": {
    "dotnet_interactive": {
     "language": "csharp"
    },
    "vscode": {
     "languageId": "dotnet-interactive.csharp"
    }
   },
   "outputs": [
    {
     "data": {
      "text/html": [
       "<div class=\"dni-plaintext\">1812</div>"
      ]
     },
     "metadata": {},
     "output_type": "display_data"
    }
   ],
   "source": [
    "var trees = ParseTrees(input);\n",
    "var count = 0;\n",
    "trees.Where(tree => IsVisible(tree, trees)).Count()"
   ]
  },
  {
   "cell_type": "code",
   "execution_count": 161,
   "metadata": {
    "dotnet_interactive": {
     "language": "csharp"
    },
    "vscode": {
     "languageId": "dotnet-interactive.csharp"
    }
   },
   "outputs": [
    {
     "data": {
      "text/html": [
       "<div class=\"dni-plaintext\">315495</div>"
      ]
     },
     "metadata": {},
     "output_type": "display_data"
    }
   ],
   "source": [
    "var trees = ParseTrees(input);\n",
    "var count = 0;\n",
    "// ScenicScore(new KeyValuePair<Position, int>(new Position { X = 2, Y = 3}, 5), trees, 4, 4)\n",
    "var maxWidth = trees.Select(tree => tree.Key.X).Max();\n",
    "var maxHeight = trees.Select(tree => tree.Key.Y).Max();\n",
    "trees.Select(tree => ScenicScore(tree, trees, maxWidth, maxHeight)).Max()\n"
   ]
  }
 ],
 "metadata": {
  "kernelspec": {
   "display_name": ".NET (C#)",
   "language": "C#",
   "name": ".net-csharp"
  },
  "language_info": {
   "file_extension": ".cs",
   "mimetype": "text/x-csharp",
   "name": "C#",
   "pygments_lexer": "csharp",
   "version": "9.0"
  },
  "orig_nbformat": 4,
  "vscode": {
   "interpreter": {
    "hash": "460b28a2f0dbdb55b7062b4d8e978834be7359139342d29a6835a4888294d7ec"
   }
  }
 },
 "nbformat": 4,
 "nbformat_minor": 2
}
