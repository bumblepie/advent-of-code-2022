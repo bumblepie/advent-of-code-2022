{
 "cells": [
  {
   "cell_type": "code",
   "execution_count": 6,
   "metadata": {
    "dotnet_interactive": {
     "language": "csharp"
    },
    "polyglot_notebook": {
     "kernelName": "csharp"
    }
   },
   "outputs": [],
   "source": [
    "public record struct Point {\n",
    "    public int X;\n",
    "    public int Y;\n",
    "    public int Z;\n",
    "\n",
    "    public static Point operator+(Point position, Point other) {\n",
    "        return new Point {\n",
    "            X = position.X + other.X,\n",
    "            Y = position.Y + other.Y,\n",
    "            Z = position.Z + other.Z,\n",
    "        };\n",
    "    }\n",
    "    \n",
    "    public static Point operator-(Point position, Point other) {\n",
    "        return new Point {\n",
    "            X = position.X - other.X,\n",
    "            Y = position.Y - other.Y,\n",
    "            Z = position.Z - other.Z,\n",
    "        };\n",
    "    }\n",
    "}\n",
    "\n",
    "public record struct Bounds {\n",
    "    public int MinX;\n",
    "    public int MinY;\n",
    "    public int MinZ;\n",
    "    public int MaxX;\n",
    "    public int MaxY;\n",
    "    public int MaxZ;\n",
    "\n",
    "    public static Bounds From(IEnumerable<Point> points) {\n",
    "        return new Bounds {\n",
    "            MinX = points.Min(p => p.X),\n",
    "            MaxX = points.Max(p => p.X),\n",
    "            MinY = points.Min(p => p.Y),\n",
    "            MaxY = points.Max(p => p.Y),\n",
    "            MinZ = points.Min(p => p.Z),\n",
    "            MaxZ = points.Max(p => p.Z),\n",
    "        };\n",
    "    }\n",
    "\n",
    "    public static Bounds Grow(Bounds bounds, int size) {\n",
    "        return new Bounds {\n",
    "            MinX = bounds.MinX - size,\n",
    "            MaxX = bounds.MaxX + size,\n",
    "            MinY = bounds.MinY - size,\n",
    "            MaxY = bounds.MaxY + size,\n",
    "            MinZ = bounds.MinZ - size,\n",
    "            MaxZ = bounds.MaxZ + size,\n",
    "        };\n",
    "    }\n",
    "\n",
    "    public bool ContainsPoint(Point point) {\n",
    "        return point.X >= MinX\n",
    "            && point.X <= MaxX\n",
    "            && point.Y >= MinY\n",
    "            && point.Y <= MaxY\n",
    "            && point.Z >= MinZ\n",
    "            && point.Z <= MaxZ;\n",
    "    }\n",
    "}"
   ]
  },
  {
   "cell_type": "code",
   "execution_count": 7,
   "metadata": {
    "dotnet_interactive": {
     "language": "csharp"
    },
    "polyglot_notebook": {
     "kernelName": "csharp"
    }
   },
   "outputs": [
    {
     "data": {
      "text/html": [
       "<table><thead><tr><th><i>index</i></th><th>value</th></tr></thead><tbody><tr><td>0</td><td>18,15,10</td></tr><tr><td>1</td><td>12,7,16</td></tr><tr><td>2</td><td>14,2,8</td></tr><tr><td>3</td><td>14,14,18</td></tr><tr><td>4</td><td>5,7,4</td></tr><tr><td>5</td><td>4,11,4</td></tr><tr><td>6</td><td>10,17,6</td></tr><tr><td>7</td><td>18,10,9</td></tr><tr><td>8</td><td>18,11,13</td></tr><tr><td>9</td><td>15,4,15</td></tr></tbody></table><style>\r\n",
       ".dni-code-hint {\r\n",
       "    font-style: italic;\r\n",
       "    overflow: hidden;\r\n",
       "    white-space: nowrap;\r\n",
       "}\r\n",
       ".dni-treeview {\r\n",
       "    white-space: nowrap;\r\n",
       "}\r\n",
       ".dni-treeview td {\r\n",
       "    vertical-align: top;\r\n",
       "    text-align: start;\r\n",
       "}\r\n",
       "details.dni-treeview {\r\n",
       "    padding-left: 1em;\r\n",
       "}\r\n",
       "table td {\r\n",
       "    text-align: start;\r\n",
       "}\r\n",
       "table tr { \r\n",
       "    vertical-align: top; \r\n",
       "    margin: 0em 0px;\r\n",
       "}\r\n",
       "table tr td pre \r\n",
       "{ \r\n",
       "    vertical-align: top !important; \r\n",
       "    margin: 0em 0px !important;\r\n",
       "} \r\n",
       "table th {\r\n",
       "    text-align: start;\r\n",
       "}\r\n",
       "</style>"
      ]
     },
     "metadata": {},
     "output_type": "display_data"
    }
   ],
   "source": [
    "var input = System.IO.File.ReadAllLines(\"input.txt\");\n",
    "input.Take(10)"
   ]
  },
  {
   "cell_type": "code",
   "execution_count": 8,
   "metadata": {
    "dotnet_interactive": {
     "language": "csharp"
    },
    "polyglot_notebook": {
     "kernelName": "csharp"
    }
   },
   "outputs": [
    {
     "data": {
      "text/html": [
       "<div class=\"dni-plaintext\"><pre>4608</pre></div><style>\r\n",
       ".dni-code-hint {\r\n",
       "    font-style: italic;\r\n",
       "    overflow: hidden;\r\n",
       "    white-space: nowrap;\r\n",
       "}\r\n",
       ".dni-treeview {\r\n",
       "    white-space: nowrap;\r\n",
       "}\r\n",
       ".dni-treeview td {\r\n",
       "    vertical-align: top;\r\n",
       "    text-align: start;\r\n",
       "}\r\n",
       "details.dni-treeview {\r\n",
       "    padding-left: 1em;\r\n",
       "}\r\n",
       "table td {\r\n",
       "    text-align: start;\r\n",
       "}\r\n",
       "table tr { \r\n",
       "    vertical-align: top; \r\n",
       "    margin: 0em 0px;\r\n",
       "}\r\n",
       "table tr td pre \r\n",
       "{ \r\n",
       "    vertical-align: top !important; \r\n",
       "    margin: 0em 0px !important;\r\n",
       "} \r\n",
       "table th {\r\n",
       "    text-align: start;\r\n",
       "}\r\n",
       "</style>"
      ]
     },
     "metadata": {},
     "output_type": "display_data"
    }
   ],
   "source": [
    "var allPoints = input.Select(line => line.Split(\",\"))\n",
    "    .Select(values => new Point { X = int.Parse(values[0]), Y = int.Parse(values[1]), Z = int.Parse(values[2]) } )\n",
    "    .ToHashSet();\n",
    "\n",
    "var deltas = new List<Point> {\n",
    "    new Point { X = 1, Y = 0, Z = 0 },\n",
    "    new Point { X = -1, Y = 0, Z = 0 },\n",
    "    new Point { X = 0, Y = 1, Z = 0 },\n",
    "    new Point { X = 0, Y = -1, Z = 0 },\n",
    "    new Point { X = 0, Y = 0, Z = 1 },\n",
    "    new Point { X = 0, Y = 0, Z = -1 },\n",
    "};\n",
    "\n",
    "allPoints.Select(point =>\n",
    "    deltas.Select(delta => point + delta)\n",
    "        .Where(neighbour => allPoints.Contains(neighbour) == false)\n",
    "        .Count()\n",
    "    )\n",
    "    .Sum()\n"
   ]
  },
  {
   "cell_type": "code",
   "execution_count": 9,
   "metadata": {
    "dotnet_interactive": {
     "language": "csharp"
    },
    "polyglot_notebook": {
     "kernelName": "csharp"
    }
   },
   "outputs": [
    {
     "data": {
      "text/html": [
       "<div class=\"dni-plaintext\"><pre>2652</pre></div><style>\r\n",
       ".dni-code-hint {\r\n",
       "    font-style: italic;\r\n",
       "    overflow: hidden;\r\n",
       "    white-space: nowrap;\r\n",
       "}\r\n",
       ".dni-treeview {\r\n",
       "    white-space: nowrap;\r\n",
       "}\r\n",
       ".dni-treeview td {\r\n",
       "    vertical-align: top;\r\n",
       "    text-align: start;\r\n",
       "}\r\n",
       "details.dni-treeview {\r\n",
       "    padding-left: 1em;\r\n",
       "}\r\n",
       "table td {\r\n",
       "    text-align: start;\r\n",
       "}\r\n",
       "table tr { \r\n",
       "    vertical-align: top; \r\n",
       "    margin: 0em 0px;\r\n",
       "}\r\n",
       "table tr td pre \r\n",
       "{ \r\n",
       "    vertical-align: top !important; \r\n",
       "    margin: 0em 0px !important;\r\n",
       "} \r\n",
       "table th {\r\n",
       "    text-align: start;\r\n",
       "}\r\n",
       "</style>"
      ]
     },
     "metadata": {},
     "output_type": "display_data"
    }
   ],
   "source": [
    "var rockPoints = input.Select(line => line.Split(\",\"))\n",
    "    .Select(values => new Point { X = int.Parse(values[0]), Y = int.Parse(values[1]), Z = int.Parse(values[2]) } )\n",
    "    .ToHashSet();\n",
    "\n",
    "var deltas = new List<Point> {\n",
    "    new Point { X = 1, Y = 0, Z = 0 },\n",
    "    new Point { X = -1, Y = 0, Z = 0 },\n",
    "    new Point { X = 0, Y = 1, Z = 0 },\n",
    "    new Point { X = 0, Y = -1, Z = 0 },\n",
    "    new Point { X = 0, Y = 0, Z = 1 },\n",
    "    new Point { X = 0, Y = 0, Z = -1 },\n",
    "};\n",
    "\n",
    "var bounds = Bounds.Grow(Bounds.From(rockPoints), 1);\n",
    "var startingPoint = new Point { X = bounds.MinX, Y = bounds.MinY, Z = bounds.MinZ };\n",
    "\n",
    "var pointsToExplore = new Stack<Point>(new List<Point> { startingPoint });\n",
    "var seenPoints = new HashSet<Point>();\n",
    "var surfaceAreaCount = 0;\n",
    "\n",
    "while (pointsToExplore.TryPop(out var nextPoint)) {\n",
    "    if (seenPoints.Contains(nextPoint)) {\n",
    "        continue;\n",
    "    }\n",
    "    \n",
    "    var neighbours = deltas.Select(delta => nextPoint + delta).ToList();\n",
    "    surfaceAreaCount += neighbours.Where(neighbour => rockPoints.Contains(neighbour))\n",
    "        .Count();\n",
    "    var unseenSteamPoints = neighbours.Where(bounds.ContainsPoint)\n",
    "        .Where(neighbour => seenPoints.Contains(neighbour) == false)\n",
    "        .Where(neighbour => rockPoints.Contains(neighbour) == false);\n",
    "    foreach (var point in unseenSteamPoints) {\n",
    "        pointsToExplore.Push(point);\n",
    "    }\n",
    "\n",
    "    seenPoints.Add(nextPoint);\n",
    "}\n",
    "surfaceAreaCount"
   ]
  }
 ],
 "metadata": {
  "kernelspec": {
   "display_name": ".NET (C#)",
   "language": "C#",
   "name": ".net-csharp"
  },
  "polyglot_notebook": {
   "kernelInfo": {
    "defaultKernelName": "csharp",
    "items": [
     {
      "aliases": [],
      "name": "csharp"
     }
    ]
   }
  }
 },
 "nbformat": 4,
 "nbformat_minor": 2
}
