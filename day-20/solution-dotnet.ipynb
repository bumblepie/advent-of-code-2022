{
 "cells": [
  {
   "attachments": {},
   "cell_type": "markdown",
   "metadata": {},
   "source": [
    "--- Day 20: Grove Positioning System ---\n",
    "\n",
    "It's finally time to meet back up with the Elves. When you try to contact them, however, you get no reply. Perhaps you're out of range?\n",
    "\n",
    "You know they're headed to the grove where the star fruit grows, so if you can figure out where that is, you should be able to meet back up with them.\n",
    "\n",
    "Fortunately, your handheld device has a file (your puzzle input) that contains the grove's coordinates! Unfortunately, the file is encrypted - just in case the device were to fall into the wrong hands.\n",
    "\n",
    "Maybe you can decrypt it?\n",
    "\n",
    "When you were still back at the camp, you overheard some Elves talking about coordinate file encryption. The main operation involved in decrypting the file is called mixing.\n",
    "\n",
    "The encrypted file is a list of numbers. To mix the file, move each number forward or backward in the file a number of positions equal to the value of the number being moved. The list is circular, so moving a number off one end of the list wraps back around to the other end as if the ends were connected.\n",
    "\n",
    "For example, to move the 1 in a sequence like 4, 5, 6, 1, 7, 8, 9, the 1 moves one position forward: 4, 5, 6, 7, 1, 8, 9. To move the -2 in a sequence like 4, -2, 5, 6, 7, 8, 9, the -2 moves two positions backward, wrapping around: 4, 5, 6, 7, 8, -2, 9.\n",
    "\n",
    "The numbers should be moved in the order they originally appear in the encrypted file. Numbers moving around during the mixing process do not change the order in which the numbers are moved.\n",
    "\n",
    "Consider this encrypted file:\n",
    "```\n",
    "1\n",
    "2\n",
    "-3\n",
    "3\n",
    "-2\n",
    "0\n",
    "4\n",
    "```\n",
    "Mixing this file proceeds as follows:\n",
    "```\n",
    "Initial arrangement:\n",
    "1, 2, -3, 3, -2, 0, 4\n",
    "\n",
    "1 moves between 2 and -3:\n",
    "2, 1, -3, 3, -2, 0, 4\n",
    "\n",
    "2 moves between -3 and 3:\n",
    "1, -3, 2, 3, -2, 0, 4\n",
    "\n",
    "-3 moves between -2 and 0:\n",
    "1, 2, 3, -2, -3, 0, 4\n",
    "\n",
    "3 moves between 0 and 4:\n",
    "1, 2, -2, -3, 0, 3, 4\n",
    "\n",
    "-2 moves between 4 and 1:\n",
    "1, 2, -3, 0, 3, 4, -2\n",
    "\n",
    "0 does not move:\n",
    "1, 2, -3, 0, 3, 4, -2\n",
    "\n",
    "4 moves between -3 and 0:\n",
    "1, 2, -3, 4, 0, 3, -2\n",
    "```\n",
    "Then, the grove coordinates can be found by looking at the 1000th, 2000th, and 3000th numbers after the value 0, wrapping around the list as necessary. In the above example, the 1000th number after 0 is 4, the 2000th is -3, and the 3000th is 2; adding these together produces 3.\n",
    "\n",
    "Mix your encrypted file exactly once. What is the sum of the three numbers that form the grove coordinates?\n"
   ]
  },
  {
   "cell_type": "code",
   "execution_count": 27,
   "metadata": {
    "vscode": {
     "languageId": "polyglot-notebook"
    }
   },
   "outputs": [],
   "source": [
    "// Data types and functions\n",
    "\n",
    "static List<long> Mix(List<long> originalValues, List<long> currentOrder) {\n",
    "    var locations = currentOrder;\n",
    "\n",
    "    for (var i = 0; i < originalValues.Count; i++) {\n",
    "        var shift = originalValues[i];\n",
    "        var location = locations[i];\n",
    "        var newLocation = (location + shift);\n",
    "        // Wrapping is a bit weird as we have one less number in the list until we insert the number back in\n",
    "        if (newLocation < 0) {\n",
    "            newLocation = (newLocation % (originalValues.Count - 1)) + (originalValues.Count - 1);\n",
    "        }\n",
    "        if (newLocation > originalValues.Count) {\n",
    "            newLocation = (newLocation % (originalValues.Count - 1));\n",
    "        }\n",
    "        if (newLocation > location) {\n",
    "            for (var x = 0; x < originalValues.Count; x++) {\n",
    "                if (locations[x] > location && locations[x] <= newLocation) {\n",
    "                    locations[x] -= 1;\n",
    "                }\n",
    "            }\n",
    "            locations[i] = newLocation;\n",
    "        } else if (newLocation < location) {\n",
    "            for (var x = 0; x < originalValues.Count; x++) {\n",
    "                if (locations[x] >= newLocation && locations[x] < location) {\n",
    "                    locations[x] += 1;\n",
    "                }\n",
    "            }\n",
    "            locations[i] = newLocation;\n",
    "        }\n",
    "    }\n",
    "\n",
    "    return locations;\n",
    "}"
   ]
  },
  {
   "cell_type": "code",
   "execution_count": 28,
   "metadata": {
    "dotnet_interactive": {
     "language": "csharp"
    },
    "polyglot_notebook": {
     "kernelName": "csharp"
    },
    "vscode": {
     "languageId": "polyglot-notebook"
    }
   },
   "outputs": [
    {
     "data": {
      "text/html": [
       "<table><thead><tr><th><i>index</i></th><th>value</th></tr></thead><tbody><tr><td>0</td><td>6624</td></tr><tr><td>1</td><td>7325</td></tr><tr><td>2</td><td>6213</td></tr><tr><td>3</td><td>1798</td></tr><tr><td>4</td><td>9065</td></tr><tr><td>5</td><td>-3023</td></tr><tr><td>6</td><td>2228</td></tr><tr><td>7</td><td>5781</td></tr><tr><td>8</td><td>8106</td></tr><tr><td>9</td><td>-1769</td></tr></tbody></table><style>\r\n",
       ".dni-code-hint {\r\n",
       "    font-style: italic;\r\n",
       "    overflow: hidden;\r\n",
       "    white-space: nowrap;\r\n",
       "}\r\n",
       ".dni-treeview {\r\n",
       "    white-space: nowrap;\r\n",
       "}\r\n",
       ".dni-treeview td {\r\n",
       "    vertical-align: top;\r\n",
       "    text-align: start;\r\n",
       "}\r\n",
       "details.dni-treeview {\r\n",
       "    padding-left: 1em;\r\n",
       "}\r\n",
       "table td {\r\n",
       "    text-align: start;\r\n",
       "}\r\n",
       "table tr { \r\n",
       "    vertical-align: top; \r\n",
       "    margin: 0em 0px;\r\n",
       "}\r\n",
       "table tr td pre \r\n",
       "{ \r\n",
       "    vertical-align: top !important; \r\n",
       "    margin: 0em 0px !important;\r\n",
       "} \r\n",
       "table th {\r\n",
       "    text-align: start;\r\n",
       "}\r\n",
       "</style>"
      ]
     },
     "metadata": {},
     "output_type": "display_data"
    }
   ],
   "source": [
    "// Read input\n",
    "var input = System.IO.File.ReadAllLines(\"input.txt\");\n",
    "input.Take(10)"
   ]
  },
  {
   "cell_type": "code",
   "execution_count": 29,
   "metadata": {
    "dotnet_interactive": {
     "language": "csharp"
    },
    "polyglot_notebook": {
     "kernelName": "csharp"
    },
    "vscode": {
     "languageId": "polyglot-notebook"
    }
   },
   "outputs": [
    {
     "data": {
      "text/html": [
       "<div class=\"dni-plaintext\"><pre>7004</pre></div><style>\r\n",
       ".dni-code-hint {\r\n",
       "    font-style: italic;\r\n",
       "    overflow: hidden;\r\n",
       "    white-space: nowrap;\r\n",
       "}\r\n",
       ".dni-treeview {\r\n",
       "    white-space: nowrap;\r\n",
       "}\r\n",
       ".dni-treeview td {\r\n",
       "    vertical-align: top;\r\n",
       "    text-align: start;\r\n",
       "}\r\n",
       "details.dni-treeview {\r\n",
       "    padding-left: 1em;\r\n",
       "}\r\n",
       "table td {\r\n",
       "    text-align: start;\r\n",
       "}\r\n",
       "table tr { \r\n",
       "    vertical-align: top; \r\n",
       "    margin: 0em 0px;\r\n",
       "}\r\n",
       "table tr td pre \r\n",
       "{ \r\n",
       "    vertical-align: top !important; \r\n",
       "    margin: 0em 0px !important;\r\n",
       "} \r\n",
       "table th {\r\n",
       "    text-align: start;\r\n",
       "}\r\n",
       "</style>"
      ]
     },
     "metadata": {},
     "output_type": "display_data"
    }
   ],
   "source": [
    "// Part 1\n",
    "var originalValues = input\n",
    "    .Select(long.Parse)\n",
    "    .ToList();\n",
    "\n",
    "var finalOrder = Mix(originalValues, Enumerable.Range(0, originalValues.Count).Select(n => (long) n).ToList());\n",
    "var finalList = finalOrder\n",
    "        .Select((newLocation, oldLocation) => (NewLocation: newLocation, Value: originalValues[oldLocation]))\n",
    "        .OrderBy(x => x.NewLocation)\n",
    "        .Select(x => x.Value)\n",
    "        .ToList();\n",
    "\n",
    "var zeroIndex = finalList.IndexOf(0);\n",
    "finalList[(1000 + zeroIndex) % finalList.Count]\n",
    "+ finalList[(2000 + zeroIndex) % finalList.Count]\n",
    "+ finalList[(3000 + zeroIndex) % finalList.Count]"
   ]
  },
  {
   "attachments": {},
   "cell_type": "markdown",
   "metadata": {
    "dotnet_interactive": {
     "language": "csharp"
    },
    "polyglot_notebook": {
     "kernelName": "csharp"
    }
   },
   "source": [
    "--- Part Two ---\n",
    "\n",
    "The grove coordinate values seem nonsensical. While you ponder the mysteries of Elf encryption, you suddenly remember the rest of the decryption routine you overheard back at camp.\n",
    "\n",
    "First, you need to apply the decryption key, 811589153. Multiply each number by the decryption key before you begin; this will produce the actual list of numbers to mix.\n",
    "\n",
    "Second, you need to mix the list of numbers ten times. The order in which the numbers are mixed does not change during mixing; the numbers are still moved in the order they appeared in the original, pre-mixed list. (So, if -3 appears fourth in the original list of numbers to mix, -3 will be the fourth number to move during each round of mixing.)\n",
    "\n",
    "Using the same example as above:\n",
    "```\n",
    "Initial arrangement:\n",
    "811589153, 1623178306, -2434767459, 2434767459, -1623178306, 0, 3246356612\n",
    "\n",
    "After 1 round of mixing:\n",
    "0, -2434767459, 3246356612, -1623178306, 2434767459, 1623178306, 811589153\n",
    "\n",
    "After 2 rounds of mixing:\n",
    "0, 2434767459, 1623178306, 3246356612, -2434767459, -1623178306, 811589153\n",
    "\n",
    "After 3 rounds of mixing:\n",
    "0, 811589153, 2434767459, 3246356612, 1623178306, -1623178306, -2434767459\n",
    "\n",
    "After 4 rounds of mixing:\n",
    "0, 1623178306, -2434767459, 811589153, 2434767459, 3246356612, -1623178306\n",
    "\n",
    "After 5 rounds of mixing:\n",
    "0, 811589153, -1623178306, 1623178306, -2434767459, 3246356612, 2434767459\n",
    "\n",
    "After 6 rounds of mixing:\n",
    "0, 811589153, -1623178306, 3246356612, -2434767459, 1623178306, 2434767459\n",
    "\n",
    "After 7 rounds of mixing:\n",
    "0, -2434767459, 2434767459, 1623178306, -1623178306, 811589153, 3246356612\n",
    "\n",
    "After 8 rounds of mixing:\n",
    "0, 1623178306, 3246356612, 811589153, -2434767459, 2434767459, -1623178306\n",
    "\n",
    "After 9 rounds of mixing:\n",
    "0, 811589153, 1623178306, -2434767459, 3246356612, 2434767459, -1623178306\n",
    "\n",
    "After 10 rounds of mixing:\n",
    "0, -2434767459, 1623178306, 3246356612, -1623178306, 2434767459, 811589153\n",
    "```\n",
    "The grove coordinates can still be found in the same way. Here, the 1000th number after 0 is 811589153, the 2000th is 2434767459, and the 3000th is -1623178306; adding these together produces 1623178306.\n",
    "\n",
    "Apply the decryption key and mix your encrypted file ten times. What is the sum of the three numbers that form the grove coordinates?\n"
   ]
  },
  {
   "cell_type": "code",
   "execution_count": 30,
   "metadata": {
    "dotnet_interactive": {
     "language": "csharp"
    },
    "polyglot_notebook": {
     "kernelName": "csharp"
    },
    "vscode": {
     "languageId": "polyglot-notebook"
    }
   },
   "outputs": [
    {
     "data": {
      "text/html": [
       "<div class=\"dni-plaintext\"><pre>17200008919529</pre></div><style>\r\n",
       ".dni-code-hint {\r\n",
       "    font-style: italic;\r\n",
       "    overflow: hidden;\r\n",
       "    white-space: nowrap;\r\n",
       "}\r\n",
       ".dni-treeview {\r\n",
       "    white-space: nowrap;\r\n",
       "}\r\n",
       ".dni-treeview td {\r\n",
       "    vertical-align: top;\r\n",
       "    text-align: start;\r\n",
       "}\r\n",
       "details.dni-treeview {\r\n",
       "    padding-left: 1em;\r\n",
       "}\r\n",
       "table td {\r\n",
       "    text-align: start;\r\n",
       "}\r\n",
       "table tr { \r\n",
       "    vertical-align: top; \r\n",
       "    margin: 0em 0px;\r\n",
       "}\r\n",
       "table tr td pre \r\n",
       "{ \r\n",
       "    vertical-align: top !important; \r\n",
       "    margin: 0em 0px !important;\r\n",
       "} \r\n",
       "table th {\r\n",
       "    text-align: start;\r\n",
       "}\r\n",
       "</style>"
      ]
     },
     "metadata": {},
     "output_type": "display_data"
    }
   ],
   "source": [
    "// Part 2\n",
    "var originalValues = input\n",
    "    .Select(long.Parse)\n",
    "    .Select(n => n * 811589153)\n",
    "    .ToList();\n",
    "\n",
    "var currentOrder = Enumerable.Range(0, originalValues.Count)\n",
    "    .Select(n => (long) n)\n",
    "    .ToList();\n",
    "for (long i = 0; i < 10; i++) {\n",
    "    currentOrder = Mix(originalValues, currentOrder);\n",
    "}\n",
    "var currentList = currentOrder\n",
    "    .Select((newLocation, oldLocation) => (NewLocation: newLocation, Value: originalValues[oldLocation]))\n",
    "    .OrderBy(x => x.NewLocation)\n",
    "    .Select(x => x.Value)\n",
    "    .ToList();\n",
    "\n",
    "var zeroIndex = currentList.IndexOf(0);\n",
    "currentList[(1000 + zeroIndex) % currentList.Count]\n",
    "+ currentList[(2000 + zeroIndex) % currentList.Count]\n",
    "+ currentList[(3000 + zeroIndex) % currentList.Count]"
   ]
  }
 ],
 "metadata": {
  "kernelspec": {
   "display_name": ".NET (C#)",
   "language": "C#",
   "name": ".net-csharp"
  },
  "polyglot_notebook": {
   "kernelInfo": {
    "defaultKernelName": "csharp",
    "items": [
     {
      "aliases": [],
      "name": "csharp"
     }
    ]
   }
  }
 },
 "nbformat": 4,
 "nbformat_minor": 2
}
