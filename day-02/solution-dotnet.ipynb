{
 "cells": [
  {
   "cell_type": "markdown",
   "metadata": {},
   "source": [
    "--- Day 2: Rock Paper Scissors ---\n",
    "\n",
    "The Elves begin to set up camp on the beach. To decide whose tent gets to be closest to the snack storage, a giant Rock Paper Scissors tournament is already in progress.\n",
    "\n",
    "Rock Paper Scissors is a game between two players. Each game contains many rounds; in each round, the players each simultaneously choose one of Rock, Paper, or Scissors using a hand shape. Then, a winner for that round is selected: Rock defeats Scissors, Scissors defeats Paper, and Paper defeats Rock. If both players choose the same shape, the round instead ends in a draw.\n",
    "\n",
    "Appreciative of your help yesterday, one Elf gives you an encrypted strategy guide (your puzzle input) that they say will be sure to help you win. \"The first column is what your opponent is going to play: A for Rock, B for Paper, and C for Scissors. The second column--\" Suddenly, the Elf is called away to help with someone's tent.\n",
    "\n",
    "The second column, you reason, must be what you should play in response: X for Rock, Y for Paper, and Z for Scissors. Winning every time would be suspicious, so the responses must have been carefully chosen.\n",
    "\n",
    "The winner of the whole tournament is the player with the highest score. Your total score is the sum of your scores for each round. The score for a single round is the score for the shape you selected (1 for Rock, 2 for Paper, and 3 for Scissors) plus the score for the outcome of the round (0 if you lost, 3 if the round was a draw, and 6 if you won).\n",
    "\n",
    "Since you can't be sure if the Elf is trying to help you or trick you, you should calculate the score you would get if you were to follow the strategy guide.\n",
    "\n",
    "For example, suppose you were given the following strategy guide:\n",
    "```\n",
    "A Y\n",
    "B X\n",
    "C Z\n",
    "```\n",
    "This strategy guide predicts and recommends the following:\n",
    "\n",
    "    In the first round, your opponent will choose Rock (A), and you should choose Paper (Y). This ends in a win for you with a score of 8 (2 because you chose Paper + 6 because you won).\n",
    "    In the second round, your opponent will choose Paper (B), and you should choose Rock (X). This ends in a loss for you with a score of 1 (1 + 0).\n",
    "    The third round is a draw with both players choosing Scissors, giving you a score of 3 + 3 = 6.\n",
    "\n",
    "In this example, if you were to follow the strategy guide, you would get a total score of 15 (8 + 1 + 6).\n",
    "\n",
    "What would your total score be if everything goes exactly according to your strategy guide?\n"
   ]
  },
  {
   "cell_type": "code",
   "execution_count": 5,
   "metadata": {
    "dotnet_interactive": {
     "language": "csharp"
    },
    "vscode": {
     "languageId": "dotnet-interactive.csharp"
    }
   },
   "outputs": [],
   "source": [
    "// Data Types and Functions\n",
    "public enum Choice {\n",
    "    Rock,\n",
    "    Paper,\n",
    "    Scissors,\n",
    "}\n",
    "\n",
    "Choice ParseChoice(string choice) {\n",
    "    return choice switch {\n",
    "        \"A\" or \"X\" => Choice.Rock,\n",
    "        \"B\" or \"Y\" => Choice.Paper,\n",
    "        \"C\" or \"Z\" => Choice.Scissors,\n",
    "        _ => throw new System.InvalidOperationException(\"Unknown choice\"),\n",
    "    };\n",
    "}\n",
    "\n",
    "public record struct Part1Input {\n",
    "    public Choice OpponentChoice;\n",
    "    public Choice MyChoice;\n",
    "}\n",
    "\n",
    "Part1Input ParseLinePart1(string line) {\n",
    "    var sections = line.Split(\" \");\n",
    "    return new Part1Input {\n",
    "        OpponentChoice = ParseChoice(sections[0]),\n",
    "        MyChoice = ParseChoice(sections[1]),\n",
    "    };\n",
    "}\n",
    "\n",
    "public enum MatchOutcome {\n",
    "    Win,\n",
    "    Draw,\n",
    "    Loss\n",
    "}\n",
    "\n",
    "MatchOutcome ParseMatchOutcome(string choice) {\n",
    "    return choice switch {\n",
    "        \"X\" => MatchOutcome.Loss,\n",
    "        \"Y\" => MatchOutcome.Draw,\n",
    "        \"Z\" => MatchOutcome.Win,\n",
    "        _ => throw new System.InvalidOperationException(\"Unknown match outcome\"),\n",
    "    };\n",
    "}\n",
    "\n",
    "public record struct Part2Input {\n",
    "    public Choice OpponentChoice;\n",
    "    public MatchOutcome DesiredOutcome;\n",
    "}\n",
    "\n",
    "Part2Input ParseLinePart2(string line) {\n",
    "    var sections = line.Split(\" \");\n",
    "    return new Part2Input {\n",
    "        OpponentChoice = ParseChoice(sections[0]),\n",
    "        DesiredOutcome = ParseMatchOutcome(sections[1]),\n",
    "    };\n",
    "}\n",
    "\n",
    "public record struct MatchResult {\n",
    "    public MatchOutcome Outcome;\n",
    "    public Choice MyChoice;\n",
    "}\n",
    "\n",
    "int Score(MatchResult result) {\n",
    "    var pickScore = result.MyChoice switch {\n",
    "        Choice.Rock => 1,\n",
    "        Choice.Paper => 2,\n",
    "        Choice.Scissors => 3,\n",
    "    };\n",
    "    var outcomeScore = result.Outcome switch {\n",
    "        MatchOutcome.Win => 6,\n",
    "        MatchOutcome.Draw => 3,\n",
    "        MatchOutcome.Loss => 0,\n",
    "    };\n",
    "    return pickScore + outcomeScore;\n",
    "}\n",
    "\n",
    "MatchResult PlayGame(Choice opponents, Choice mine) {\n",
    "    var outcome = (opponents, mine) switch {\n",
    "        (Choice.Rock, Choice.Rock) => MatchOutcome.Draw,\n",
    "        (Choice.Rock, Choice.Paper) => MatchOutcome.Win,\n",
    "        (Choice.Rock, Choice.Scissors) => MatchOutcome.Loss,\n",
    "\n",
    "        (Choice.Paper, Choice.Paper) => MatchOutcome.Draw,\n",
    "        (Choice.Paper, Choice.Scissors) => MatchOutcome.Win,\n",
    "        (Choice.Paper, Choice.Rock) => MatchOutcome.Loss,\n",
    "\n",
    "        (Choice.Scissors, Choice.Scissors) => MatchOutcome.Draw,\n",
    "        (Choice.Scissors, Choice.Rock) => MatchOutcome.Win,\n",
    "        (Choice.Scissors, Choice.Paper) => MatchOutcome.Loss,\n",
    "    };\n",
    "    return new MatchResult {\n",
    "        Outcome = outcome,\n",
    "        MyChoice = mine,\n",
    "    };\n",
    "}\n",
    "\n",
    "Choice ChoiceNeededForOutcome(Choice opponentChoice, MatchOutcome outcome) {\n",
    "    return (opponentChoice, outcome) switch {\n",
    "        (Choice.Rock, MatchOutcome.Win) => Choice.Paper,\n",
    "        (Choice.Rock, MatchOutcome.Draw) => Choice.Rock,\n",
    "        (Choice.Rock, MatchOutcome.Loss) => Choice.Scissors,\n",
    "\n",
    "        (Choice.Paper, MatchOutcome.Win) => Choice.Scissors,\n",
    "        (Choice.Paper, MatchOutcome.Draw) => Choice.Paper,\n",
    "        (Choice.Paper, MatchOutcome.Loss) => Choice.Rock,\n",
    "\n",
    "        (Choice.Scissors, MatchOutcome.Win) => Choice.Rock,\n",
    "        (Choice.Scissors, MatchOutcome.Draw) => Choice.Scissors,\n",
    "        (Choice.Scissors, MatchOutcome.Loss) => Choice.Paper,\n",
    "    };\n",
    "}"
   ]
  },
  {
   "cell_type": "code",
   "execution_count": 6,
   "metadata": {
    "dotnet_interactive": {
     "language": "csharp"
    },
    "vscode": {
     "languageId": "dotnet-interactive.csharp"
    }
   },
   "outputs": [
    {
     "data": {
      "text/html": [
       "<table><thead><tr><th><i>index</i></th><th>value</th></tr></thead><tbody><tr><td>0</td><td>A X</td></tr><tr><td>1</td><td>A Z</td></tr><tr><td>2</td><td>A Z</td></tr><tr><td>3</td><td>A X</td></tr><tr><td>4</td><td>A X</td></tr><tr><td>5</td><td>B X</td></tr><tr><td>6</td><td>C Y</td></tr><tr><td>7</td><td>B X</td></tr><tr><td>8</td><td>A Z</td></tr><tr><td>9</td><td>A X</td></tr><tr><td>10</td><td>A X</td></tr><tr><td>11</td><td>A X</td></tr><tr><td>12</td><td>A X</td></tr><tr><td>13</td><td>B X</td></tr><tr><td>14</td><td>A X</td></tr><tr><td>15</td><td>B X</td></tr><tr><td>16</td><td>A Z</td></tr><tr><td>17</td><td>A Z</td></tr><tr><td>18</td><td>A X</td></tr><tr><td>19</td><td>A X</td></tr><tr><td colspan=\"2\"><i>(2480 more)</i></td></tr></tbody></table>"
      ]
     },
     "metadata": {},
     "output_type": "display_data"
    }
   ],
   "source": [
    "// Read input\n",
    "var lines = System.IO.File.ReadAllLines(\"input.txt\");\n",
    "lines"
   ]
  },
  {
   "cell_type": "code",
   "execution_count": 7,
   "metadata": {
    "dotnet_interactive": {
     "language": "csharp"
    },
    "vscode": {
     "languageId": "dotnet-interactive.csharp"
    }
   },
   "outputs": [
    {
     "data": {
      "text/html": [
       "<div class=\"dni-plaintext\">8890</div>"
      ]
     },
     "metadata": {},
     "output_type": "display_data"
    }
   ],
   "source": [
    "//Part 1\n",
    "lines.Select(ParseLinePart1)\n",
    "    .Select(choices => PlayGame(choices.OpponentChoice, choices.MyChoice))\n",
    "    .Select(Score)\n",
    "    .Sum()"
   ]
  },
  {
   "cell_type": "markdown",
   "metadata": {},
   "source": [
    "--- Part Two ---\n",
    "\n",
    "The Elf finishes helping with the tent and sneaks back over to you. \"Anyway, the second column says how the round needs to end: X means you need to lose, Y means you need to end the round in a draw, and Z means you need to win. Good luck!\"\n",
    "\n",
    "The total score is still calculated in the same way, but now you need to figure out what shape to choose so the round ends as indicated. The example above now goes like this:\n",
    "\n",
    "    In the first round, your opponent will choose Rock (A), and you need the round to end in a draw (Y), so you also choose Rock. This gives you a score of 1 + 3 = 4.\n",
    "    In the second round, your opponent will choose Paper (B), and you choose Rock so you lose (X) with a score of 1 + 0 = 1.\n",
    "    In the third round, you will defeat your opponent's Scissors with Rock for a score of 1 + 6 = 7.\n",
    "\n",
    "Now that you're correctly decrypting the ultra top secret strategy guide, you would get a total score of 12.\n",
    "\n",
    "Following the Elf's instructions for the second column, what would your total score be if everything goes exactly according to your strategy guide?\n"
   ]
  },
  {
   "cell_type": "code",
   "execution_count": 8,
   "metadata": {
    "dotnet_interactive": {
     "language": "csharp"
    },
    "vscode": {
     "languageId": "dotnet-interactive.csharp"
    }
   },
   "outputs": [
    {
     "data": {
      "text/html": [
       "<div class=\"dni-plaintext\">10238</div>"
      ]
     },
     "metadata": {},
     "output_type": "display_data"
    }
   ],
   "source": [
    "// Part 2\n",
    "lines.Select(ParseLinePart2)\n",
    "    .Select(input => (input.OpponentChoice, ChoiceNeededForOutcome(input.OpponentChoice, input.DesiredOutcome)))\n",
    "    .Select(choices => PlayGame(choices.Item1, choices.Item2))\n",
    "    .Select(Score)\n",
    "    .Sum()"
   ]
  }
 ],
 "metadata": {
  "kernelspec": {
   "display_name": ".NET (C#)",
   "language": "C#",
   "name": ".net-csharp"
  },
  "language_info": {
   "file_extension": ".cs",
   "mimetype": "text/x-csharp",
   "name": "C#",
   "pygments_lexer": "csharp",
   "version": "9.0"
  },
  "orig_nbformat": 4
 },
 "nbformat": 4,
 "nbformat_minor": 2
}
