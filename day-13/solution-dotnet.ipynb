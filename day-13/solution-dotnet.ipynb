{
 "cells": [
  {
   "attachments": {},
   "cell_type": "markdown",
   "metadata": {},
   "source": [
    "--- Day 13: Distress Signal ---\n",
    "\n",
    "You climb the hill and again try contacting the Elves. However, you instead receive a signal you weren't expecting: a distress signal.\n",
    "\n",
    "Your handheld device must still not be working properly; the packets from the distress signal got decoded out of order. You'll need to re-order the list of received packets (your puzzle input) to decode the message.\n",
    "\n",
    "Your list consists of pairs of packets; pairs are separated by a blank line. You need to identify how many pairs of packets are in the right order.\n",
    "\n",
    "For example:\n",
    "```\n",
    "[1,1,3,1,1]\n",
    "[1,1,5,1,1]\n",
    "\n",
    "[[1],[2,3,4]]\n",
    "[[1],4]\n",
    "\n",
    "[9]\n",
    "[[8,7,6]]\n",
    "\n",
    "[[4,4],4,4]\n",
    "[[4,4],4,4,4]\n",
    "\n",
    "[7,7,7,7]\n",
    "[7,7,7]\n",
    "\n",
    "[]\n",
    "[3]\n",
    "\n",
    "[[[]]]\n",
    "[[]]\n",
    "\n",
    "[1,[2,[3,[4,[5,6,7]]]],8,9]\n",
    "[1,[2,[3,[4,[5,6,0]]]],8,9]\n",
    "```\n",
    "Packet data consists of lists and integers. Each list starts with [, ends with ], and contains zero or more comma-separated values (either integers or other lists). Each packet is always a list and appears on its own line.\n",
    "\n",
    "When comparing two values, the first value is called left and the second value is called right. Then:\n",
    "\n",
    "    If both values are integers, the lower integer should come first. If the left integer is lower than the right integer, the inputs are in the right order. If the left integer is higher than the right integer, the inputs are not in the right order. Otherwise, the inputs are the same integer; continue checking the next part of the input.\n",
    "    If both values are lists, compare the first value of each list, then the second value, and so on. If the left list runs out of items first, the inputs are in the right order. If the right list runs out of items first, the inputs are not in the right order. If the lists are the same length and no comparison makes a decision about the order, continue checking the next part of the input.\n",
    "    If exactly one value is an integer, convert the integer to a list which contains that integer as its only value, then retry the comparison. For example, if comparing [0,0,0] and 2, convert the right value to [2] (a list containing 2); the result is then found by instead comparing [0,0,0] and [2].\n",
    "\n",
    "Using these rules, you can determine which of the pairs in the example are in the right order:\n",
    "```\n",
    "== Pair 1 ==\n",
    "- Compare [1,1,3,1,1] vs [1,1,5,1,1]\n",
    "  - Compare 1 vs 1\n",
    "  - Compare 1 vs 1\n",
    "  - Compare 3 vs 5\n",
    "    - Left side is smaller, so inputs are in the right order\n",
    "\n",
    "== Pair 2 ==\n",
    "- Compare [[1],[2,3,4]] vs [[1],4]\n",
    "  - Compare [1] vs [1]\n",
    "    - Compare 1 vs 1\n",
    "  - Compare [2,3,4] vs 4\n",
    "    - Mixed types; convert right to [4] and retry comparison\n",
    "    - Compare [2,3,4] vs [4]\n",
    "      - Compare 2 vs 4\n",
    "        - Left side is smaller, so inputs are in the right order\n",
    "\n",
    "== Pair 3 ==\n",
    "- Compare [9] vs [[8,7,6]]\n",
    "  - Compare 9 vs [8,7,6]\n",
    "    - Mixed types; convert left to [9] and retry comparison\n",
    "    - Compare [9] vs [8,7,6]\n",
    "      - Compare 9 vs 8\n",
    "        - Right side is smaller, so inputs are not in the right order\n",
    "\n",
    "== Pair 4 ==\n",
    "- Compare [[4,4],4,4] vs [[4,4],4,4,4]\n",
    "  - Compare [4,4] vs [4,4]\n",
    "    - Compare 4 vs 4\n",
    "    - Compare 4 vs 4\n",
    "  - Compare 4 vs 4\n",
    "  - Compare 4 vs 4\n",
    "  - Left side ran out of items, so inputs are in the right order\n",
    "\n",
    "== Pair 5 ==\n",
    "- Compare [7,7,7,7] vs [7,7,7]\n",
    "  - Compare 7 vs 7\n",
    "  - Compare 7 vs 7\n",
    "  - Compare 7 vs 7\n",
    "  - Right side ran out of items, so inputs are not in the right order\n",
    "\n",
    "== Pair 6 ==\n",
    "- Compare [] vs [3]\n",
    "  - Left side ran out of items, so inputs are in the right order\n",
    "\n",
    "== Pair 7 ==\n",
    "- Compare [[[]]] vs [[]]\n",
    "  - Compare [[]] vs []\n",
    "    - Right side ran out of items, so inputs are not in the right order\n",
    "\n",
    "== Pair 8 ==\n",
    "- Compare [1,[2,[3,[4,[5,6,7]]]],8,9] vs [1,[2,[3,[4,[5,6,0]]]],8,9]\n",
    "  - Compare 1 vs 1\n",
    "  - Compare [2,[3,[4,[5,6,7]]]] vs [2,[3,[4,[5,6,0]]]]\n",
    "    - Compare 2 vs 2\n",
    "    - Compare [3,[4,[5,6,7]]] vs [3,[4,[5,6,0]]]\n",
    "      - Compare 3 vs 3\n",
    "      - Compare [4,[5,6,7]] vs [4,[5,6,0]]\n",
    "        - Compare 4 vs 4\n",
    "        - Compare [5,6,7] vs [5,6,0]\n",
    "          - Compare 5 vs 5\n",
    "          - Compare 6 vs 6\n",
    "          - Compare 7 vs 0\n",
    "            - Right side is smaller, so inputs are not in the right order\n",
    "```\n",
    "What are the indices of the pairs that are already in the right order? (The first pair has index 1, the second pair has index 2, and so on.) In the above example, the pairs in the right order are 1, 2, 4, and 6; the sum of these indices is 13.\n",
    "\n",
    "Determine which pairs of packets are already in the right order. What is the sum of the indices of those pairs?\n"
   ]
  },
  {
   "cell_type": "code",
   "execution_count": 106,
   "metadata": {
    "vscode": {
     "languageId": "polyglot-notebook"
    }
   },
   "outputs": [
    {
     "data": {
      "text/html": [
       "<div><div></div><div></div><div><strong>Installed Packages</strong><ul><li><span>Xunit, 2.4.1</span></li></ul></div></div>"
      ]
     },
     "metadata": {},
     "output_type": "display_data"
    }
   ],
   "source": [
    "// Imports\n",
    "#r \"nuget:Xunit,2.4.1\""
   ]
  },
  {
   "cell_type": "code",
   "execution_count": 107,
   "metadata": {
    "dotnet_interactive": {
     "language": "csharp"
    },
    "polyglot_notebook": {
     "kernelName": "csharp"
    },
    "vscode": {
     "languageId": "polyglot-notebook"
    }
   },
   "outputs": [],
   "source": [
    "// Data Types and Functions\n",
    "public class Node {\n",
    "    public List<Node> Children { get; set; } = new List<Node>();\n",
    "    public Node Parent { get; set; }\n",
    "    public int? Value { get; set; }\n",
    "\n",
    "    public override string ToString() {\n",
    "        if (Value != null) {\n",
    "            return $\"{Value}\";\n",
    "        } else {\n",
    "            return \"[\" + String.Join(\",\", Children.Select(c => c.ToString())) + \"]\";\n",
    "        }\n",
    "    }\n",
    "}\n",
    "\n",
    "public Node ParseNode(string input) {\n",
    "    var currentNode = new Node();\n",
    "    int? currentValue = null;\n",
    "    foreach (var c in input) {\n",
    "        if (c == '[') {\n",
    "            var newNode = new Node();\n",
    "            newNode.Parent = currentNode;\n",
    "            currentNode.Children.Add(newNode);\n",
    "            currentNode = newNode;\n",
    "            continue;\n",
    "        }\n",
    "\n",
    "        if (char.IsAsciiDigit(c)) {\n",
    "            currentValue = (currentValue ?? 0) * 10 + int.Parse($\"{c}\");\n",
    "            continue;\n",
    "        }\n",
    "\n",
    "        if (c == ',') {\n",
    "            if (currentValue != null) {\n",
    "                var newNode = new Node();\n",
    "                newNode.Value = currentValue;\n",
    "                newNode.Parent = currentNode;\n",
    "                currentNode.Children.Add(newNode);\n",
    "            }\n",
    "            currentValue = null;\n",
    "            continue;\n",
    "        }\n",
    "\n",
    "        if (c == ']') {\n",
    "            if (currentValue != null) {\n",
    "                var newNode = new Node();\n",
    "                newNode.Value = currentValue;\n",
    "                newNode.Parent = currentNode;\n",
    "                currentNode.Children.Add(newNode);\n",
    "            }\n",
    "            currentValue = null;\n",
    "\n",
    "            currentNode = currentNode.Parent;\n",
    "            continue;\n",
    "        }\n",
    "    }\n",
    "    return currentNode;\n",
    "}\n",
    "\n",
    "public enum Order {\n",
    "    LessThan = -1,\n",
    "    Equal = 0,\n",
    "    GreaterThan = 1,\n",
    "}\n",
    "\n",
    "public static Order GetOrder(Node a, Node b) {\n",
    "    // Console.WriteLine($\"{a} vs {b}\");\n",
    "    if (a.Value != null && b.Value != null) {\n",
    "        if (a.Value < b.Value) {\n",
    "            return Order.LessThan;\n",
    "        } else if (a.Value == b.Value) {\n",
    "            return Order.Equal;\n",
    "        } else {\n",
    "            return Order.GreaterThan;\n",
    "        }\n",
    "    }\n",
    "\n",
    "    if (a.Value != null) {\n",
    "        var aAsList = new Node();\n",
    "        aAsList.Children = new List<Node>();\n",
    "        aAsList.Children.Add(a);\n",
    "        return GetOrder(aAsList, b);\n",
    "    }\n",
    "\n",
    "    if (b.Value != null) {\n",
    "        var bAsList = new Node();\n",
    "        bAsList.Children = new List<Node>();\n",
    "        bAsList.Children.Add(b);\n",
    "        return GetOrder(a, bAsList);\n",
    "    }\n",
    "\n",
    "    foreach ((var aItem, var bItem) in a.Children.Zip(b.Children)) {\n",
    "        var itemOrder = GetOrder(aItem, bItem);\n",
    "        if (itemOrder != Order.Equal) {\n",
    "            return itemOrder;\n",
    "        }\n",
    "    }\n",
    "\n",
    "    if (a.Children.Count < b.Children.Count) {\n",
    "        return Order.LessThan;\n",
    "    } else if (a.Children.Count == b.Children.Count) {\n",
    "        return Order.Equal;\n",
    "    } else {\n",
    "        return Order.GreaterThan;\n",
    "    }\n",
    "}\n",
    "\n",
    "class NodeComparer : IComparer<Node>\n",
    "{\n",
    "    public int Compare(Node a, Node b)\n",
    "    {\n",
    "      return (int) GetOrder(a, b);\n",
    "    }\n",
    "}"
   ]
  },
  {
   "cell_type": "code",
   "execution_count": 108,
   "metadata": {
    "dotnet_interactive": {
     "language": "csharp"
    },
    "polyglot_notebook": {
     "kernelName": "csharp"
    },
    "vscode": {
     "languageId": "polyglot-notebook"
    }
   },
   "outputs": [],
   "source": [
    "// Example tests\n",
    "using Xunit;\n",
    "\n",
    "Assert.Equal(Order.LessThan, GetOrder(ParseNode(\"[1,1,3,1,1]\"), ParseNode(\"[1,1,5,1,1]\")));\n",
    "Assert.Equal(Order.LessThan, GetOrder(ParseNode(\"[[1],[2,3,4]]\"), ParseNode(\"[[1],4]\")));\n",
    "Assert.Equal(Order.GreaterThan, GetOrder(ParseNode(\"[9]\"), ParseNode(\"[[8,7,6]]\")));\n",
    "Assert.Equal(Order.LessThan, GetOrder(ParseNode(\"[[[4,4],4,4]\"), ParseNode(\"[[4,4],4,4,4]\")));\n",
    "Assert.Equal(Order.GreaterThan, GetOrder(ParseNode(\"[7,7,7,7]\"), ParseNode(\"[7,7,7]\")));\n",
    "Assert.Equal(Order.LessThan, GetOrder(ParseNode(\"[]\"), ParseNode(\"[3]\")));\n",
    "Assert.Equal(Order.GreaterThan, GetOrder(ParseNode(\"[[[]]]\"), ParseNode(\"[[]]\")));\n",
    "Assert.Equal(Order.GreaterThan, GetOrder(ParseNode(\"[1,[2,[3,[4,[5,6,7]]]],8,9]\"), ParseNode(\"[1,[2,[3,[4,[5,6,0]]]],8,9]\")));"
   ]
  },
  {
   "cell_type": "code",
   "execution_count": 109,
   "metadata": {
    "dotnet_interactive": {
     "language": "csharp"
    },
    "polyglot_notebook": {
     "kernelName": "csharp"
    },
    "vscode": {
     "languageId": "polyglot-notebook"
    }
   },
   "outputs": [
    {
     "data": {
      "text/html": [
       "<table><thead><tr><th><i>index</i></th><th>value</th></tr></thead><tbody><tr><td>0</td><td>[[[5,1,[],[8,1,3],6],[[7]]],[10,[]],[6],[[],[[0,6,4,10,5],[2,2,9],[4,4],[2,10,4,10,8]],7,7],[[5],5,[[6],[8,2],[5],[]],[9,3,2,[9,4,8,6,8]]]]</td></tr><tr><td>1</td><td>[[5]]</td></tr><tr><td>2</td><td></td></tr><tr><td>3</td><td>[[[5,3,[],[5,3,10],2],[[5,0,9,1]]],[[[9,0],[9,6,3]]],[[[1],1,[7,6],10],4],[2]]</td></tr><tr><td>4</td><td>[[],[[2,[9,2,6,9],10],[[2,8,10],[4,6],[1,6,4,6],[2,10,1,0,6]],6,[7,6,3,[10,6,4,5],4]],[],[2,2,[]],[2,9,[[3,3,9,6],[6,8,7,9,6],10,2,[6,9,8,7,0]],[7]]]</td></tr><tr><td>5</td><td></td></tr><tr><td>6</td><td>[[[4,6,7]],[[1,10,8,[7,2]],10],[10],[[3,7,8,[6,7],[]],8,[4,[5,0,9,1],[6,1,2,6,5]]]]</td></tr><tr><td>7</td><td>[[[3,[1,8,7,6],[3,8,7,7],[],[8,5]],[[1,8,10],[10,8,9]],8,[[8],9,[],3],[7,9,8,[2,10,7]]],[8,2],[6]]</td></tr><tr><td>8</td><td></td></tr><tr><td>9</td><td>[[3]]</td></tr></tbody></table><style>\r\n",
       ".dni-code-hint {\r\n",
       "    font-style: italic;\r\n",
       "    overflow: hidden;\r\n",
       "    white-space: nowrap;\r\n",
       "}\r\n",
       ".dni-treeview {\r\n",
       "    white-space: nowrap;\r\n",
       "}\r\n",
       ".dni-treeview td {\r\n",
       "    vertical-align: top;\r\n",
       "    text-align: start;\r\n",
       "}\r\n",
       "details.dni-treeview {\r\n",
       "    padding-left: 1em;\r\n",
       "}\r\n",
       "table td {\r\n",
       "    text-align: start;\r\n",
       "}\r\n",
       "table tr { \r\n",
       "    vertical-align: top; \r\n",
       "    margin: 0em 0px;\r\n",
       "}\r\n",
       "table tr td pre \r\n",
       "{ \r\n",
       "    vertical-align: top !important; \r\n",
       "    margin: 0em 0px !important;\r\n",
       "} \r\n",
       "table th {\r\n",
       "    text-align: start;\r\n",
       "}\r\n",
       "</style>"
      ]
     },
     "metadata": {},
     "output_type": "display_data"
    }
   ],
   "source": [
    "// Read input\n",
    "var input = System.IO.File.ReadAllLines(\"input.txt\");\n",
    "input.Take(10)"
   ]
  },
  {
   "cell_type": "code",
   "execution_count": 110,
   "metadata": {
    "dotnet_interactive": {
     "language": "csharp"
    },
    "polyglot_notebook": {
     "kernelName": "csharp"
    },
    "vscode": {
     "languageId": "polyglot-notebook"
    }
   },
   "outputs": [
    {
     "data": {
      "text/html": [
       "<div class=\"dni-plaintext\"><pre>5843</pre></div><style>\r\n",
       ".dni-code-hint {\r\n",
       "    font-style: italic;\r\n",
       "    overflow: hidden;\r\n",
       "    white-space: nowrap;\r\n",
       "}\r\n",
       ".dni-treeview {\r\n",
       "    white-space: nowrap;\r\n",
       "}\r\n",
       ".dni-treeview td {\r\n",
       "    vertical-align: top;\r\n",
       "    text-align: start;\r\n",
       "}\r\n",
       "details.dni-treeview {\r\n",
       "    padding-left: 1em;\r\n",
       "}\r\n",
       "table td {\r\n",
       "    text-align: start;\r\n",
       "}\r\n",
       "table tr { \r\n",
       "    vertical-align: top; \r\n",
       "    margin: 0em 0px;\r\n",
       "}\r\n",
       "table tr td pre \r\n",
       "{ \r\n",
       "    vertical-align: top !important; \r\n",
       "    margin: 0em 0px !important;\r\n",
       "} \r\n",
       "table th {\r\n",
       "    text-align: start;\r\n",
       "}\r\n",
       "</style>"
      ]
     },
     "metadata": {},
     "output_type": "display_data"
    }
   ],
   "source": [
    "// Part 1\n",
    "input.Chunk(3)\n",
    "    .Select(lines => lines.ToList())\n",
    "    .Select((lines, index) => GetOrder(ParseNode(lines[0]), ParseNode(lines[1])) == Order.LessThan ? index + 1 : 0)\n",
    "    .Where(v => v != 0)\n",
    "    .Sum()"
   ]
  },
  {
   "attachments": {},
   "cell_type": "markdown",
   "metadata": {
    "dotnet_interactive": {
     "language": "csharp"
    },
    "polyglot_notebook": {
     "kernelName": "csharp"
    }
   },
   "source": [
    "--- Part Two ---\n",
    "\n",
    "Now, you just need to put all of the packets in the right order. Disregard the blank lines in your list of received packets.\n",
    "\n",
    "The distress signal protocol also requires that you include two additional divider packets:\n",
    "```\n",
    "[[2]]\n",
    "[[6]]\n",
    "```\n",
    "Using the same rules as before, organize all packets - the ones in your list of received packets as well as the two divider packets - into the correct order.\n",
    "\n",
    "For the example above, the result of putting the packets in the correct order is:\n",
    "```\n",
    "[]\n",
    "[[]]\n",
    "[[[]]]\n",
    "[1,1,3,1,1]\n",
    "[1,1,5,1,1]\n",
    "[[1],[2,3,4]]\n",
    "[1,[2,[3,[4,[5,6,0]]]],8,9]\n",
    "[1,[2,[3,[4,[5,6,7]]]],8,9]\n",
    "[[1],4]\n",
    "[[2]]\n",
    "[3]\n",
    "[[4,4],4,4]\n",
    "[[4,4],4,4,4]\n",
    "[[6]]\n",
    "[7,7,7]\n",
    "[7,7,7,7]\n",
    "[[8,7,6]]\n",
    "[9]\n",
    "```\n",
    "Afterward, locate the divider packets. To find the decoder key for this distress signal, you need to determine the indices of the two divider packets and multiply them together. (The first packet is at index 1, the second packet is at index 2, and so on.) In this example, the divider packets are 10th and 14th, and so the decoder key is 140.\n",
    "\n",
    "Organize all of the packets into the correct order. What is the decoder key for the distress signal?\n"
   ]
  },
  {
   "cell_type": "code",
   "execution_count": 111,
   "metadata": {
    "dotnet_interactive": {
     "language": "csharp"
    },
    "polyglot_notebook": {
     "kernelName": "csharp"
    },
    "vscode": {
     "languageId": "polyglot-notebook"
    }
   },
   "outputs": [
    {
     "data": {
      "text/html": [
       "<div class=\"dni-plaintext\"><pre>26289</pre></div><style>\r\n",
       ".dni-code-hint {\r\n",
       "    font-style: italic;\r\n",
       "    overflow: hidden;\r\n",
       "    white-space: nowrap;\r\n",
       "}\r\n",
       ".dni-treeview {\r\n",
       "    white-space: nowrap;\r\n",
       "}\r\n",
       ".dni-treeview td {\r\n",
       "    vertical-align: top;\r\n",
       "    text-align: start;\r\n",
       "}\r\n",
       "details.dni-treeview {\r\n",
       "    padding-left: 1em;\r\n",
       "}\r\n",
       "table td {\r\n",
       "    text-align: start;\r\n",
       "}\r\n",
       "table tr { \r\n",
       "    vertical-align: top; \r\n",
       "    margin: 0em 0px;\r\n",
       "}\r\n",
       "table tr td pre \r\n",
       "{ \r\n",
       "    vertical-align: top !important; \r\n",
       "    margin: 0em 0px !important;\r\n",
       "} \r\n",
       "table th {\r\n",
       "    text-align: start;\r\n",
       "}\r\n",
       "</style>"
      ]
     },
     "metadata": {},
     "output_type": "display_data"
    }
   ],
   "source": [
    "// Part 2\n",
    "var orderedPackets = input.Where(line => String.IsNullOrEmpty(line) == false)\n",
    "    .Append(\"[[2]]\")\n",
    "    .Append(\"[[6]]\")\n",
    "    .OrderBy(line => ParseNode(line), new NodeComparer())\n",
    "    .ToList();\n",
    "\n",
    "var firstPacketIndex = orderedPackets.IndexOf(\"[[2]]\");\n",
    "var secondPacketIndex = orderedPackets.IndexOf(\"[[6]]\");\n",
    "(firstPacketIndex + 1) * (secondPacketIndex + 1)"
   ]
  }
 ],
 "metadata": {
  "kernelspec": {
   "display_name": ".NET (C#)",
   "language": "C#",
   "name": ".net-csharp"
  },
  "polyglot_notebook": {
   "kernelInfo": {
    "defaultKernelName": "csharp",
    "items": [
     {
      "aliases": [],
      "name": "csharp"
     }
    ]
   }
  }
 },
 "nbformat": 4,
 "nbformat_minor": 2
}
