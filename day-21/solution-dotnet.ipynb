{
 "cells": [
  {
   "cell_type": "code",
   "execution_count": 1,
   "metadata": {
    "vscode": {
     "languageId": "csharp"
    }
   },
   "outputs": [
    {
     "data": {
      "text/html": [
       "\r\n",
       "<div>\r\n",
       "    <div id='dotnet-interactive-this-cell-212169.Microsoft.DotNet.Interactive.Http.HttpPort' style='display: none'>\r\n",
       "        The below script needs to be able to find the current output cell; this is an easy method to get it.\r\n",
       "    </div>\r\n",
       "    <script type='text/javascript'>\r\n",
       "async function probeAddresses(probingAddresses) {\r\n",
       "    function timeout(ms, promise) {\r\n",
       "        return new Promise(function (resolve, reject) {\r\n",
       "            setTimeout(function () {\r\n",
       "                reject(new Error('timeout'))\r\n",
       "            }, ms)\r\n",
       "            promise.then(resolve, reject)\r\n",
       "        })\r\n",
       "    }\r\n",
       "\r\n",
       "    if (Array.isArray(probingAddresses)) {\r\n",
       "        for (let i = 0; i < probingAddresses.length; i++) {\r\n",
       "\r\n",
       "            let rootUrl = probingAddresses[i];\r\n",
       "\r\n",
       "            if (!rootUrl.endsWith('/')) {\r\n",
       "                rootUrl = `${rootUrl}/`;\r\n",
       "            }\r\n",
       "\r\n",
       "            try {\r\n",
       "                let response = await timeout(1000, fetch(`${rootUrl}discovery`, {\r\n",
       "                    method: 'POST',\r\n",
       "                    cache: 'no-cache',\r\n",
       "                    mode: 'cors',\r\n",
       "                    timeout: 1000,\r\n",
       "                    headers: {\r\n",
       "                        'Content-Type': 'text/plain'\r\n",
       "                    },\r\n",
       "                    body: probingAddresses[i]\r\n",
       "                }));\r\n",
       "\r\n",
       "                if (response.status == 200) {\r\n",
       "                    return rootUrl;\r\n",
       "                }\r\n",
       "            }\r\n",
       "            catch (e) { }\r\n",
       "        }\r\n",
       "    }\r\n",
       "}\r\n",
       "\r\n",
       "function loadDotnetInteractiveApi() {\r\n",
       "    probeAddresses([\"http://192.168.1.161:1033/\", \"http://127.0.0.1:1033/\"])\r\n",
       "        .then((root) => {\r\n",
       "        // use probing to find host url and api resources\r\n",
       "        // load interactive helpers and language services\r\n",
       "        let dotnetInteractiveRequire = require.config({\r\n",
       "        context: '212169.Microsoft.DotNet.Interactive.Http.HttpPort',\r\n",
       "                paths:\r\n",
       "            {\r\n",
       "                'dotnet-interactive': `${root}resources`\r\n",
       "                }\r\n",
       "        }) || require;\r\n",
       "\r\n",
       "            window.dotnetInteractiveRequire = dotnetInteractiveRequire;\r\n",
       "\r\n",
       "            window.configureRequireFromExtension = function(extensionName, extensionCacheBuster) {\r\n",
       "                let paths = {};\r\n",
       "                paths[extensionName] = `${root}extensions/${extensionName}/resources/`;\r\n",
       "                \r\n",
       "                let internalRequire = require.config({\r\n",
       "                    context: extensionCacheBuster,\r\n",
       "                    paths: paths,\r\n",
       "                    urlArgs: `cacheBuster=${extensionCacheBuster}`\r\n",
       "                    }) || require;\r\n",
       "\r\n",
       "                return internalRequire\r\n",
       "            };\r\n",
       "        \r\n",
       "            dotnetInteractiveRequire([\r\n",
       "                    'dotnet-interactive/dotnet-interactive'\r\n",
       "                ],\r\n",
       "                function (dotnet) {\r\n",
       "                    dotnet.init(window);\r\n",
       "                },\r\n",
       "                function (error) {\r\n",
       "                    console.log(error);\r\n",
       "                }\r\n",
       "            );\r\n",
       "        })\r\n",
       "        .catch(error => {console.log(error);});\r\n",
       "    }\r\n",
       "\r\n",
       "// ensure `require` is available globally\r\n",
       "if ((typeof(require) !==  typeof(Function)) || (typeof(require.config) !== typeof(Function))) {\r\n",
       "    let require_script = document.createElement('script');\r\n",
       "    require_script.setAttribute('src', 'https://cdnjs.cloudflare.com/ajax/libs/require.js/2.3.6/require.min.js');\r\n",
       "    require_script.setAttribute('type', 'text/javascript');\r\n",
       "    \r\n",
       "    \r\n",
       "    require_script.onload = function() {\r\n",
       "        loadDotnetInteractiveApi();\r\n",
       "    };\r\n",
       "\r\n",
       "    document.getElementsByTagName('head')[0].appendChild(require_script);\r\n",
       "}\r\n",
       "else {\r\n",
       "    loadDotnetInteractiveApi();\r\n",
       "}\r\n",
       "\r\n",
       "    </script>\r\n",
       "</div>"
      ]
     },
     "metadata": {},
     "output_type": "display_data"
    },
    {
     "name": "stderr",
     "output_type": "stream",
     "text": [
      "\n",
      "(63,58): warning CS8629: Nullable value type may be null.\n",
      "\n",
      "(76,69): warning CS8629: Nullable value type may be null.\n",
      "\n",
      "(88,30): warning CS8629: Nullable value type may be null.\n",
      "\n"
     ]
    }
   ],
   "source": [
    "// Data Types and Functions\n",
    "using System.Text.RegularExpressions;\n",
    "\n",
    "#nullable enable\n",
    "public record struct Operation {\n",
    "    public string Left;\n",
    "    public string Right;\n",
    "    public string Operator;\n",
    "}\n",
    "\n",
    "public class Monkey {\n",
    "    public string Name { get; set; } = null!;\n",
    "    public double? Value { get; set; }\n",
    "    public bool? IsIndependent { get; set; }\n",
    "    public Operation? Operation { get; set; }\n",
    "}\n",
    "\n",
    "public static readonly var ValueMonkeyRegex = new Regex(@\"(\\w+): (\\d+)\");\n",
    "public static readonly var OperationMonkeyRegex = new Regex(@\"(\\w+): (\\w+) ([\\+\\-\\/\\*]) (\\w+)\");\n",
    "public static Monkey ParseMonkey(string line) {\n",
    "    if (ValueMonkeyRegex.IsMatch(line)) {\n",
    "        var matchGroups = ValueMonkeyRegex.Match(line).Groups;\n",
    "        return new Monkey {\n",
    "            Name = matchGroups[1].Value,\n",
    "            Value = double.Parse(matchGroups[2].Value),\n",
    "            IsIndependent = true,\n",
    "        };\n",
    "    }\n",
    "    if (OperationMonkeyRegex.IsMatch(line)) {\n",
    "        var matchGroups = OperationMonkeyRegex.Match(line).Groups;\n",
    "        return new Monkey {\n",
    "            Name = matchGroups[1].Value,\n",
    "            Operation = new Operation {\n",
    "                Left = matchGroups[2].Value,\n",
    "                Operator = matchGroups[3].Value,\n",
    "                Right = matchGroups[4].Value,\n",
    "            },\n",
    "            IsIndependent = null,\n",
    "        };\n",
    "    }\n",
    "    throw new InvalidOperationException($\"Could not parse monkey from line {line}\");\n",
    "}\n",
    "\n",
    "public static Dictionary<string, Monkey> ParseMonkeys(IEnumerable<string> lines) {\n",
    "    return (\n",
    "        lines.Select(ParseMonkey)\n",
    "            .ToDictionary(monkey => monkey.Name)\n",
    "    );\n",
    "}\n",
    "\n",
    "public static double CalculateOperation(double left, string @operator, double right) {\n",
    "    return @operator switch {\n",
    "        \"+\" => left + right,\n",
    "        \"-\" => left - right,\n",
    "        \"*\" => left * right,\n",
    "        \"/\" => left / right,\n",
    "        _ => throw new InvalidOperationException($\"Unknown operator {@operator}\"),\n",
    "    };\n",
    "}\n",
    "public static double CalculateValueForMonkey(Dictionary<string, Monkey> monkeys, string monkeyName) {\n",
    "    var monkey = monkeys[monkeyName];\n",
    "    if (monkey.Value is null) {\n",
    "        var leftValue = CalculateValueForMonkey(monkeys, monkey.Operation.Value.Left);\n",
    "        var rightValue = CalculateValueForMonkey(monkeys, monkey.Operation.Value.Right);\n",
    "        monkey.Value = CalculateOperation(leftValue, monkey.Operation.Value.Operator, rightValue);\n",
    "    }\n",
    "    return monkey.Value.Value;\n",
    "}\n",
    "\n",
    "public static bool MonkeyIsIndependentOfHuman(Dictionary<string, Monkey> monkeys, string monkeyName) {\n",
    "    if (monkeyName == \"humn\") {\n",
    "        return false;\n",
    "    }\n",
    "    var monkey = monkeys[monkeyName];\n",
    "    if (monkey.IsIndependent == null) {\n",
    "        var leftIsIndependent = MonkeyIsIndependentOfHuman(monkeys, monkey.Operation.Value.Left);\n",
    "        var rightIsIndependent = MonkeyIsIndependentOfHuman(monkeys, monkey.Operation.Value.Right);\n",
    "        monkey.IsIndependent = leftIsIndependent && rightIsIndependent;\n",
    "    }\n",
    "    return monkey.IsIndependent.Value;\n",
    "}\n",
    "\n",
    "public static double CalculateValueForHuman(Dictionary<string, Monkey> monkeys, Monkey dependentMonkey, double independentValue) {\n",
    "    //Console.WriteLine($\"{dependentMonkey.Name} {independentValue}\");\n",
    "    if (dependentMonkey.Name == \"humn\") {\n",
    "        return independentValue;\n",
    "    }\n",
    "    var leftMonkey = monkeys[dependentMonkey.Operation.Value.Left];\n",
    "    var rightMonkey = monkeys[dependentMonkey.Operation.Value.Right];\n",
    "\n",
    "    var leftIsIndependent = MonkeyIsIndependentOfHuman(monkeys, leftMonkey.Name);\n",
    "    var rightIsIndependent = MonkeyIsIndependentOfHuman(monkeys, rightMonkey.Name);\n",
    "    if (leftIsIndependent && rightIsIndependent) {\n",
    "        throw new InvalidOperationException($\"No human in equation for monkey {dependentMonkey.Name}\");\n",
    "    }\n",
    "    if (!leftIsIndependent && !rightIsIndependent) {\n",
    "        throw new InvalidOperationException($\"Human on both sides of equation for monkey {dependentMonkey.Name}\");\n",
    "    }\n",
    "    if (!leftIsIndependent && rightIsIndependent) {\n",
    "        var rightValue = CalculateValueForMonkey(monkeys, rightMonkey.Name);\n",
    "        var operation = dependentMonkey.Operation.Value;\n",
    "        return operation.Operator switch {\n",
    "            \"+\" => CalculateValueForHuman(monkeys, leftMonkey, independentValue - rightValue),\n",
    "            \"-\" => CalculateValueForHuman(monkeys, leftMonkey, independentValue + rightValue),\n",
    "            \"*\" => CalculateValueForHuman(monkeys, leftMonkey, independentValue / rightValue),\n",
    "            \"/\" => CalculateValueForHuman(monkeys, leftMonkey, independentValue * rightValue),\n",
    "            _ => throw new InvalidOperationException($\"Unknown operator {@operation.Operator}\"),\n",
    "        };\n",
    "    }\n",
    "    if (leftIsIndependent && !rightIsIndependent) {\n",
    "        var leftValue = CalculateValueForMonkey(monkeys, leftMonkey.Name);\n",
    "        var operation = dependentMonkey.Operation.Value;\n",
    "        return operation.Operator switch {\n",
    "            \"+\" => CalculateValueForHuman(monkeys, rightMonkey, independentValue - leftValue),\n",
    "            \"-\" => CalculateValueForHuman(monkeys, rightMonkey, leftValue - independentValue),\n",
    "            \"*\" => CalculateValueForHuman(monkeys, rightMonkey, independentValue / leftValue),\n",
    "            \"/\" => CalculateValueForHuman(monkeys, rightMonkey, leftValue / independentValue),\n",
    "            _ => throw new InvalidOperationException($\"Unknown operator {@operation.Operator}\"),\n",
    "        };\n",
    "    }\n",
    "    throw new InvalidOperationException();\n",
    "}"
   ]
  },
  {
   "cell_type": "code",
   "execution_count": 2,
   "metadata": {
    "vscode": {
     "languageId": "csharp"
    }
   },
   "outputs": [
    {
     "data": {
      "text/html": [
       "<table><thead><tr><th><i>index</i></th><th>value</th></tr></thead><tbody><tr><td>0</td><td>blwt: dlgr + hrmn</td></tr><tr><td>1</td><td>qjpw: fncn + pmpf</td></tr><tr><td>2</td><td>qsph: lfjt * lfnj</td></tr><tr><td>3</td><td>wdlv: gtlm + spqs</td></tr><tr><td>4</td><td>lfjg: nrps * bvrb</td></tr><tr><td>5</td><td>hcvr: jvhm * sflb</td></tr><tr><td>6</td><td>vclr: 8</td></tr><tr><td>7</td><td>sspl: lfvv + qntd</td></tr><tr><td>8</td><td>wlmv: 3</td></tr><tr><td>9</td><td>gjfq: 3</td></tr></tbody></table>"
      ]
     },
     "execution_count": 2,
     "metadata": {},
     "output_type": "execute_result"
    }
   ],
   "source": [
    "// Read input\n",
    "var input = System.IO.File.ReadAllLines(\"input.txt\");\n",
    "input.Take(10)"
   ]
  },
  {
   "cell_type": "code",
   "execution_count": 3,
   "metadata": {
    "dotnet_interactive": {
     "language": "csharp"
    },
    "polyglot_notebook": {
     "kernelName": "csharp"
    },
    "vscode": {
     "languageId": "csharp"
    }
   },
   "outputs": [
    {
     "data": {
      "text/html": [
       "<div class=\"dni-plaintext\">43699799094202</div>"
      ]
     },
     "execution_count": 3,
     "metadata": {},
     "output_type": "execute_result"
    }
   ],
   "source": [
    "// Part 1\n",
    "var monkeys = ParseMonkeys(input);\n",
    "(long) CalculateValueForMonkey(monkeys, \"root\")"
   ]
  },
  {
   "cell_type": "code",
   "execution_count": 4,
   "metadata": {
    "dotnet_interactive": {
     "language": "csharp"
    },
    "polyglot_notebook": {
     "kernelName": "csharp"
    },
    "vscode": {
     "languageId": "csharp"
    }
   },
   "outputs": [
    {
     "name": "stdout",
     "output_type": "stream",
     "text": [
      "3375719472770\n"
     ]
    }
   ],
   "source": [
    "// Part 2\n",
    "var monkeys = ParseMonkeys(input);\n",
    "var rootOperation = monkeys[\"root\"].Operation.Value;\n",
    "var leftIsIndependent = MonkeyIsIndependentOfHuman(monkeys, rootOperation.Left);\n",
    "var rightIsIndependent = MonkeyIsIndependentOfHuman(monkeys, rootOperation.Right);\n",
    "if (leftIsIndependent && rightIsIndependent) {\n",
    "    throw new InvalidOperationException(\"No human in equation for monkey root\");\n",
    "}\n",
    "if (!leftIsIndependent && !rightIsIndependent) {\n",
    "    throw new InvalidOperationException(\"Human on both sides of equation for monkey root\");\n",
    "}\n",
    "if (!leftIsIndependent && rightIsIndependent) {\n",
    "    var independentValue = CalculateValueForMonkey(monkeys, rootOperation.Right);\n",
    "    Console.WriteLine($\"{(long) CalculateValueForHuman(monkeys, monkeys[rootOperation.Left], independentValue)}\");\n",
    "}\n",
    "if (leftIsIndependent && !rightIsIndependent) {\n",
    "    var independentValue = CalculateValueForMonkey(monkeys, rootOperation.Left);\n",
    "    Console.WriteLine($\"{(long) CalculateValueForHuman(monkeys, monkeys[rootOperation.Right], independentValue)}\");\n",
    "}\n",
    "\n"
   ]
  }
 ],
 "metadata": {
  "kernelspec": {
   "display_name": ".NET (C#)",
   "language": "C#",
   "name": ".net-csharp"
  },
  "language_info": {
   "file_extension": ".cs",
   "mimetype": "text/x-csharp",
   "name": "C#",
   "pygments_lexer": "csharp",
   "version": "10.0"
  },
  "polyglot_notebook": {
   "kernelInfo": {
    "defaultKernelName": "csharp",
    "items": [
     {
      "aliases": [],
      "name": "csharp"
     }
    ]
   }
  }
 },
 "nbformat": 4,
 "nbformat_minor": 2
}
