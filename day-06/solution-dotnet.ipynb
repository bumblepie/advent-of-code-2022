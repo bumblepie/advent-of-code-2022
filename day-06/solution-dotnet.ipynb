{
 "cells": [
  {
   "cell_type": "markdown",
   "id": "4934e11e",
   "metadata": {},
   "source": [
    "--- Day 6: Tuning Trouble ---\n",
    "\n",
    "The preparations are finally complete; you and the Elves leave camp on foot and begin to make your way toward the star fruit grove.\n",
    "\n",
    "As you move through the dense undergrowth, one of the Elves gives you a handheld device. He says that it has many fancy features, but the most important one to set up right now is the communication system.\n",
    "\n",
    "However, because he's heard you have significant experience dealing with signal-based systems, he convinced the other Elves that it would be okay to give you their one malfunctioning device - surely you'll have no problem fixing it.\n",
    "\n",
    "As if inspired by comedic timing, the device emits a few colorful sparks.\n",
    "\n",
    "To be able to communicate with the Elves, the device needs to lock on to their signal. The signal is a series of seemingly-random characters that the device receives one at a time.\n",
    "\n",
    "To fix the communication system, you need to add a subroutine to the device that detects a start-of-packet marker in the datastream. In the protocol being used by the Elves, the start of a packet is indicated by a sequence of four characters that are all different.\n",
    "\n",
    "The device will send your subroutine a datastream buffer (your puzzle input); your subroutine needs to identify the first position where the four most recently received characters were all different. Specifically, it needs to report the number of characters from the beginning of the buffer to the end of the first such four-character marker.\n",
    "\n",
    "For example, suppose you receive the following datastream buffer:\n",
    "\n",
    "`mjqjpqmgbljsphdztnvjfqwrcgsmlb`\n",
    "\n",
    "After the first three characters (`mjq`) have been received, there haven't been enough characters received yet to find the marker. The first time a marker could occur is after the fourth character is received, making the most recent four characters `mjqj`. Because `j` is repeated, this isn't a marker.\n",
    "\n",
    "The first time a marker appears is after the seventh character arrives. Once it does, the last four characters received are `jpqm`, which are all different. In this case, your subroutine should report the value 7, because the first start-of-packet marker is complete after 7 characters have been processed.\n",
    "\n",
    "Here are a few more examples:\n",
    "\n",
    "    bvwbjplbgvbhsrlpgdmjqwftvncz: first marker after character 5\n",
    "    nppdvjthqldpwncqszvftbrmjlhg: first marker after character 6\n",
    "    nznrnfrfntjfmvfwmzdfjlvtqnbhcprsg: first marker after character 10\n",
    "    zcfzfwzzqfrljwzlrfnpqdbhtmscgvjw: first marker after character 11\n",
    "\n",
    "How many characters need to be processed before the first start-of-packet marker is detected?\n"
   ]
  },
  {
   "cell_type": "code",
   "execution_count": 37,
   "id": "ce31c901-d2e6-43b8-8e4a-f40e1a0452b1",
   "metadata": {
    "dotnet_interactive": {
     "language": "csharp"
    },
    "vscode": {
     "languageId": "dotnet-interactive.csharp"
    }
   },
   "outputs": [],
   "source": [
    "// Data Types and Functions\n",
    "public static IEnumerable<IEnumerable<T>> Window<T>(this IEnumerable<T> source, int windowSize)\n",
    "{\n",
    "    var window = new Queue<T>();\n",
    "    using (var it = source.GetEnumerator())\n",
    "    {\n",
    "        for (var i = 0; i < windowSize - 1; i++) {\n",
    "            if (it.MoveNext()) {\n",
    "                window.Enqueue(it.Current);\n",
    "            } else {\n",
    "                yield break;\n",
    "            }\n",
    "        }\n",
    "        \n",
    "        while (it.MoveNext()) {\n",
    "            window.Enqueue(it.Current);\n",
    "            if (window.Count > windowSize) {\n",
    "                window.Dequeue();\n",
    "            }\n",
    "            yield return window.ToList();\n",
    "        }\n",
    "    }\n",
    "}\n",
    "\n",
    "\n",
    "int StartOfPacketMarker(string input) {\n",
    "    var window = input.Window(4)\n",
    "        .Select((window, index) => new { Content = window, Index = index })\n",
    "        .First(window => window.Content.ToHashSet().Count() == window.Content.Count());\n",
    "    return window.Index + 4;\n",
    "}\n",
    "\n",
    "int StartOfMessageMarker(string input) {\n",
    "    var window = input.Window(14)\n",
    "        .Select((window, index) => new { Content = window, Index = index })\n",
    "        .First(window => window.Content.ToHashSet().Count() == window.Content.Count());\n",
    "    return window.Index + 14;\n",
    "}"
   ]
  },
  {
   "cell_type": "code",
   "execution_count": 38,
   "id": "cd3c003f-986c-476d-8c3f-600584fdab71",
   "metadata": {
    "dotnet_interactive": {
     "language": "csharp"
    },
    "vscode": {
     "languageId": "dotnet-interactive.csharp"
    }
   },
   "outputs": [],
   "source": [
    "// Part 1 Examples\n",
    "using System.Diagnostics;\n",
    "Debug.Assert(StartOfPacketMarker(\"mjqjpqmgbljsphdztnvjfqwrcgsmlb\") == 7);\n",
    "Debug.Assert(StartOfPacketMarker(\"bvwbjplbgvbhsrlpgdmjqwftvncz\") == 5);\n",
    "Debug.Assert(StartOfPacketMarker(\"nppdvjthqldpwncqszvftbrmjlhg\") == 6);\n",
    "Debug.Assert(StartOfPacketMarker(\"nznrnfrfntjfmvfwmzdfjlvtqnbhcprsg\") == 10);\n",
    "Debug.Assert(StartOfPacketMarker(\"zcfzfwzzqfrljwzlrfnpqdbhtmscgvjw\") == 11);"
   ]
  },
  {
   "cell_type": "code",
   "execution_count": 39,
   "id": "7aa57c6a",
   "metadata": {
    "vscode": {
     "languageId": "dotnet-interactive.csharp"
    }
   },
   "outputs": [
    {
     "data": {
      "text/plain": [
       "bgdbdsbsbsttldddzzwnzzmpzmmzmq..."
      ]
     },
     "metadata": {},
     "output_type": "display_data"
    }
   ],
   "source": [
    "var input = System.IO.File.ReadAllText(\"input.txt\");\n",
    "input.Substring(0, 30) + \"...\""
   ]
  },
  {
   "cell_type": "code",
   "execution_count": 40,
   "id": "d6c12688",
   "metadata": {
    "dotnet_interactive": {
     "language": "csharp"
    },
    "vscode": {
     "languageId": "dotnet-interactive.csharp"
    }
   },
   "outputs": [
    {
     "data": {
      "text/html": [
       "<div class=\"dni-plaintext\">1794</div>"
      ]
     },
     "metadata": {},
     "output_type": "display_data"
    }
   ],
   "source": [
    "// Part 1\n",
    "StartOfPacketMarker(input)"
   ]
  },
  {
   "cell_type": "markdown",
   "id": "167172f7",
   "metadata": {},
   "source": [
    "--- Part Two ---\n",
    "\n",
    "Your device's communication system is correctly detecting packets, but still isn't working. It looks like it also needs to look for messages.\n",
    "\n",
    "A start-of-message marker is just like a start-of-packet marker, except it consists of 14 distinct characters rather than 4.\n",
    "\n",
    "Here are the first positions of start-of-message markers for all of the above examples:\n",
    "\n",
    "    mjqjpqmgbljsphdztnvjfqwrcgsmlb: first marker after character 19\n",
    "    bvwbjplbgvbhsrlpgdmjqwftvncz: first marker after character 23\n",
    "    nppdvjthqldpwncqszvftbrmjlhg: first marker after character 23\n",
    "    nznrnfrfntjfmvfwmzdfjlvtqnbhcprsg: first marker after character 29\n",
    "    zcfzfwzzqfrljwzlrfnpqdbhtmscgvjw: first marker after character 26\n",
    "\n",
    "How many characters need to be processed before the first start-of-message marker is detected?\n"
   ]
  },
  {
   "cell_type": "code",
   "execution_count": 41,
   "id": "db92b0ad",
   "metadata": {
    "dotnet_interactive": {
     "language": "csharp"
    },
    "vscode": {
     "languageId": "dotnet-interactive.csharp"
    }
   },
   "outputs": [],
   "source": [
    "// Part 2 Examples\n",
    "using System.Diagnostics;\n",
    "Debug.Assert(StartOfMessageMarker(\"mjqjpqmgbljsphdztnvjfqwrcgsmlb\") == 19);\n",
    "Debug.Assert(StartOfMessageMarker(\"bvwbjplbgvbhsrlpgdmjqwftvncz\") == 23);\n",
    "Debug.Assert(StartOfMessageMarker(\"nppdvjthqldpwncqszvftbrmjlhg\") == 23);\n",
    "Debug.Assert(StartOfMessageMarker(\"nznrnfrfntjfmvfwmzdfjlvtqnbhcprsg\") == 29);\n",
    "Debug.Assert(StartOfMessageMarker(\"zcfzfwzzqfrljwzlrfnpqdbhtmscgvjw\") == 26);"
   ]
  },
  {
   "cell_type": "code",
   "execution_count": 42,
   "id": "4c142901",
   "metadata": {
    "dotnet_interactive": {
     "language": "csharp"
    },
    "vscode": {
     "languageId": "dotnet-interactive.csharp"
    }
   },
   "outputs": [
    {
     "data": {
      "text/html": [
       "<div class=\"dni-plaintext\">2851</div>"
      ]
     },
     "metadata": {},
     "output_type": "display_data"
    }
   ],
   "source": [
    "// Part 2\n",
    "StartOfMessageMarker(input)"
   ]
  }
 ],
 "metadata": {
  "kernelspec": {
   "display_name": ".NET (C#)",
   "language": "C#",
   "name": ".net-csharp"
  },
  "language_info": {
   "file_extension": ".cs",
   "mimetype": "text/x-csharp",
   "name": "C#",
   "pygments_lexer": "csharp",
   "version": "10.0"
  }
 },
 "nbformat": 4,
 "nbformat_minor": 5
}
