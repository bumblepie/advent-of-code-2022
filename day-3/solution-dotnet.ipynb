{
 "cells": [
  {
   "cell_type": "markdown",
   "metadata": {},
   "source": [
    "--- Day 3: Rucksack Reorganization ---\n",
    "\n",
    "One Elf has the important job of loading all of the rucksacks with supplies for the jungle journey. Unfortunately, that Elf didn't quite follow the packing instructions, and so a few items now need to be rearranged.\n",
    "\n",
    "Each rucksack has two large compartments. All items of a given type are meant to go into exactly one of the two compartments. The Elf that did the packing failed to follow this rule for exactly one item type per rucksack.\n",
    "\n",
    "The Elves have made a list of all of the items currently in each rucksack (your puzzle input), but they need your help finding the errors. Every item type is identified by a single lowercase or uppercase letter (that is, a and A refer to different types of items).\n",
    "\n",
    "The list of items for each rucksack is given as characters all on a single line. A given rucksack always has the same number of items in each of its two compartments, so the first half of the characters represent items in the first compartment, while the second half of the characters represent items in the second compartment.\n",
    "\n",
    "For example, suppose you have the following list of contents from six rucksacks:\n",
    "```\n",
    "vJrwpWtwJgWrhcsFMMfFFhFp\n",
    "jqHRNqRjqzjGDLGLrsFMfFZSrLrFZsSL\n",
    "PmmdzqPrVvPwwTWBwg\n",
    "wMqvLMZHhHMvwLHjbvcjnnSBnvTQFn\n",
    "ttgJtRGJQctTZtZT\n",
    "CrZsJsPPZsGzwwsLwLmpwMDw\n",
    "```\n",
    "\n",
    "    The first rucksack contains the items vJrwpWtwJgWrhcsFMMfFFhFp, which means its first compartment contains the items vJrwpWtwJgWr, while the second compartment contains the items hcsFMMfFFhFp. The only item type that appears in both compartments is lowercase p.\n",
    "    The second rucksack's compartments contain jqHRNqRjqzjGDLGL and rsFMfFZSrLrFZsSL. The only item type that appears in both compartments is uppercase L.\n",
    "    The third rucksack's compartments contain PmmdzqPrV and vPwwTWBwg; the only common item type is uppercase P.\n",
    "    The fourth rucksack's compartments only share item type v.\n",
    "    The fifth rucksack's compartments only share item type t.\n",
    "    The sixth rucksack's compartments only share item type s.\n",
    "\n",
    "To help prioritize item rearrangement, every item type can be converted to a priority:\n",
    "\n",
    "    Lowercase item types a through z have priorities 1 through 26.\n",
    "    Uppercase item types A through Z have priorities 27 through 52.\n",
    "\n",
    "In the above example, the priority of the item type that appears in both compartments of each rucksack is 16 (p), 38 (L), 42 (P), 22 (v), 20 (t), and 19 (s); the sum of these is 157.\n",
    "\n",
    "Find the item type that appears in both compartments of each rucksack. What is the sum of the priorities of those item types?\n"
   ]
  },
  {
   "cell_type": "code",
   "execution_count": 1,
   "metadata": {
    "dotnet_interactive": {
     "language": "csharp"
    },
    "vscode": {
     "languageId": "dotnet-interactive.csharp"
    }
   },
   "outputs": [],
   "source": [
    "// Data Types and Functions\n",
    "using System.Text.RegularExpressions;\n",
    "\n",
    "var UppercaseRegex = new Regex(\"[A-Z]\");\n",
    "var LowercaseRegex = new Regex(\"[a-z]\");\n",
    "int Priority(char c) {\n",
    "    if (LowercaseRegex.IsMatch($\"{c}\")) {\n",
    "        return c - 'a' + 1;\n",
    "    }\n",
    "    if (UppercaseRegex.IsMatch($\"{c}\")) {\n",
    "        return c - 'A' + 27;\n",
    "    }\n",
    "    throw new InvalidOperationException($\"Unknown rucksack item {c}\");\n",
    "}"
   ]
  },
  {
   "cell_type": "code",
   "execution_count": 2,
   "metadata": {
    "dotnet_interactive": {
     "language": "csharp"
    },
    "vscode": {
     "languageId": "dotnet-interactive.csharp"
    }
   },
   "outputs": [
    {
     "data": {
      "text/html": [
       "<table><thead><tr><th><i>index</i></th><th>value</th></tr></thead><tbody><tr><td>0</td><td>dWlhclDHdFvDCCDfFq</td></tr><tr><td>1</td><td>mGdZBZBwRGjZMFgvTvgtvv</td></tr><tr><td>2</td><td>jwwJrzdzGdSbGGnNlzWczHzPHPhn</td></tr><tr><td>3</td><td>cczcbMBszhzzDBTBPPPGjtvtlt</td></tr><tr><td>4</td><td>LqJLfpwdLnvQLRGQjGtj</td></tr><tr><td>5</td><td>gSgnSJJCGSGpGSrwgfhchmmmHzcrHDmbrmMm</td></tr><tr><td>6</td><td>bVjstCsSstCLCrbSLnMpdMndcLddcqcpHR</td></tr><tr><td>7</td><td>wPZJQJwtBfJZmgBwPTcpTdcnfHMppcGMdG</td></tr><tr><td>8</td><td>gmFJzwPJJtszvNhCNC</td></tr><tr><td>9</td><td>DmjZDMZWDqGRqqRpHmmRLTTNTPTfCQJQQLJHTClc</td></tr><tr><td>10</td><td>FtzfvrfFwVgtzztgBLJNcNlTcTVNNQLN</td></tr><tr><td>11</td><td>vgsdbzzrwtqWfWRpZDdZ</td></tr><tr><td>12</td><td>rJhqRhLHhdcQqdHqfQGfPGstgGPlWttM</td></tr><tr><td>13</td><td>DzCpDDmnNCmBZBZnVBmZzBGPfsbglfNPwgPGPMWsWWft</td></tr><tr><td>14</td><td>BZFnlmpBpBzDzVZmhFHFrrrchhRqTdrc</td></tr><tr><td>15</td><td>DWCCWFNqdGFdPVcb</td></tr><tr><td>16</td><td>HllttQsTRlJlsblrHlhdmPLVcVcTccndLvPLmL</td></tr><tr><td>17</td><td>HSlstHgJltghhRrzNBNDzSwMjNZwNb</td></tr><tr><td>18</td><td>dzGSHCWSsGVVSdHVHHWWVVDCgJDpQqLTTRJpgmTLRmJTTpTR</td></tr><tr><td>19</td><td>BvNjMPZMBtBBMvvNMNttlhLQqCJpLmhTRQqQJgRJLQQg</td></tr><tr><td colspan=\"2\"><i>(280 more)</i></td></tr></tbody></table>"
      ]
     },
     "metadata": {},
     "output_type": "display_data"
    }
   ],
   "source": [
    "// Read input\n",
    "var lines = System.IO.File.ReadAllLines(\"input.txt\");\n",
    "lines"
   ]
  },
  {
   "cell_type": "code",
   "execution_count": 3,
   "metadata": {
    "dotnet_interactive": {
     "language": "csharp"
    },
    "vscode": {
     "languageId": "dotnet-interactive.csharp"
    }
   },
   "outputs": [
    {
     "data": {
      "text/html": [
       "<div class=\"dni-plaintext\">8105</div>"
      ]
     },
     "metadata": {},
     "output_type": "display_data"
    }
   ],
   "source": [
    "// Part 1\n",
    "lines.Select(line => (line.Take(line.Length / 2), line.Skip(line.Length / 2)))\n",
    "    .Select(rucksacks => rucksacks.Item1.Intersect(rucksacks.Item2).Single())\n",
    "    .Select(Priority)\n",
    "    .Sum()"
   ]
  },
  {
   "cell_type": "markdown",
   "metadata": {},
   "source": [
    "--- Part Two ---\n",
    "\n",
    "As you finish identifying the misplaced items, the Elves come to you with another issue.\n",
    "\n",
    "For safety, the Elves are divided into groups of three. Every Elf carries a badge that identifies their group. For efficiency, within each group of three Elves, the badge is the only item type carried by all three Elves. That is, if a group's badge is item type B, then all three Elves will have item type B somewhere in their rucksack, and at most two of the Elves will be carrying any other item type.\n",
    "\n",
    "The problem is that someone forgot to put this year's updated authenticity sticker on the badges. All of the badges need to be pulled out of the rucksacks so the new authenticity stickers can be attached.\n",
    "\n",
    "Additionally, nobody wrote down which item type corresponds to each group's badges. The only way to tell which item type is the right one is by finding the one item type that is common between all three Elves in each group.\n",
    "\n",
    "Every set of three lines in your list corresponds to a single group, but each group can have a different badge item type. So, in the above example, the first group's rucksacks are the first three lines:\n",
    "```\n",
    "vJrwpWtwJgWrhcsFMMfFFhFp\n",
    "jqHRNqRjqzjGDLGLrsFMfFZSrLrFZsSL\n",
    "PmmdzqPrVvPwwTWBwg\n",
    "```\n",
    "And the second group's rucksacks are the next three lines:\n",
    "```\n",
    "wMqvLMZHhHMvwLHjbvcjnnSBnvTQFn\n",
    "ttgJtRGJQctTZtZT\n",
    "CrZsJsPPZsGzwwsLwLmpwMDw\n",
    "```\n",
    "In the first group, the only item type that appears in all three rucksacks is lowercase r; this must be their badges. In the second group, their badge item type must be Z.\n",
    "\n",
    "Priorities for these items must still be found to organize the sticker attachment efforts: here, they are 18 (r) for the first group and 52 (Z) for the second group. The sum of these is 70.\n",
    "\n",
    "Find the item type that corresponds to the badges of each three-Elf group. What is the sum of the priorities of those item types?\n"
   ]
  },
  {
   "cell_type": "code",
   "execution_count": 4,
   "metadata": {
    "dotnet_interactive": {
     "language": "csharp"
    },
    "vscode": {
     "languageId": "dotnet-interactive.csharp"
    }
   },
   "outputs": [
    {
     "data": {
      "text/html": [
       "<div class=\"dni-plaintext\">2363</div>"
      ]
     },
     "metadata": {},
     "output_type": "display_data"
    }
   ],
   "source": [
    "// Part 2\n",
    "lines.Chunk(3)\n",
    "    .Select(elves => elves\n",
    "        .Select(bag => bag.AsEnumerable())\n",
    "        .Aggregate((commonItems, nextBag) => commonItems.Intersect(nextBag))\n",
    "        .Single()\n",
    "    )\n",
    "    .Select(Priority)\n",
    "    .Sum()"
   ]
  }
 ],
 "metadata": {
  "kernelspec": {
   "display_name": ".NET (C#)",
   "language": "C#",
   "name": ".net-csharp"
  },
  "language_info": {
   "file_extension": ".cs",
   "mimetype": "text/x-csharp",
   "name": "C#",
   "pygments_lexer": "csharp",
   "version": "9.0"
  },
  "orig_nbformat": 4
 },
 "nbformat": 4,
 "nbformat_minor": 2
}
