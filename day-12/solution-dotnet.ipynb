{
 "cells": [
  {
   "attachments": {},
   "cell_type": "markdown",
   "metadata": {
    "dotnet_interactive": {
     "language": "csharp"
    },
    "polyglot_notebook": {
     "kernelName": "csharp"
    }
   },
   "source": [
    "--- Day 12: Hill Climbing Algorithm ---\n",
    "\n",
    "You try contacting the Elves using your handheld device, but the river you're following must be too low to get a decent signal.\n",
    "\n",
    "You ask the device for a heightmap of the surrounding area (your puzzle input). The heightmap shows the local area from above broken into a grid; the elevation of each square of the grid is given by a single lowercase letter, where a is the lowest elevation, b is the next-lowest, and so on up to the highest elevation, z.\n",
    "\n",
    "Also included on the heightmap are marks for your current position (S) and the location that should get the best signal (E). Your current position (S) has elevation a, and the location that should get the best signal (E) has elevation z.\n",
    "\n",
    "You'd like to reach E, but to save energy, you should do it in as few steps as possible. During each step, you can move exactly one square up, down, left, or right. To avoid needing to get out your climbing gear, the elevation of the destination square can be at most one higher than the elevation of your current square; that is, if your current elevation is m, you could step to elevation n, but not to elevation o. (This also means that the elevation of the destination square can be much lower than the elevation of your current square.)\n",
    "\n",
    "For example:\n",
    "```\n",
    "Sabqponm\n",
    "abcryxxl\n",
    "accszExk\n",
    "acctuvwj\n",
    "abdefghi\n",
    "```\n",
    "Here, you start in the top-left corner; your goal is near the middle. You could start by moving down or right, but eventually you'll need to head toward the e at the bottom. From there, you can spiral around to the goal:\n",
    "```\n",
    "v..v<<<<\n",
    ">v.vv<<^\n",
    ".>vv>E^^\n",
    "..v>>>^^\n",
    "..>>>>>^\n",
    "```\n",
    "In the above diagram, the symbols indicate whether the path exits each square moving up (^), down (v), left (<), or right (>). The location that should get the best signal is still E, and . marks unvisited squares.\n",
    "\n",
    "This path reaches the goal in 31 steps, the fewest possible.\n",
    "\n",
    "What is the fewest steps required to move from your current position to the location that should get the best signal?"
   ]
  },
  {
   "cell_type": "code",
   "execution_count": 23,
   "metadata": {
    "dotnet_interactive": {
     "language": "csharp"
    },
    "polyglot_notebook": {
     "kernelName": "csharp"
    },
    "vscode": {
     "languageId": "polyglot-notebook"
    }
   },
   "outputs": [
    {
     "data": {
      "text/html": [
       "<table><thead><tr><th><i>index</i></th><th>value</th></tr></thead><tbody><tr><td>0</td><td>abccccaaaaaaaaaaaaaccaaaaaaaacccccccccaaaaaaaaccccccccaaacaaacccccccaaaaaaccccccccccccccccccccccaaaacccccccccccacccccccccccccccccccccccccccccccccccccccccccccccaaaa</td></tr><tr><td>1</td><td>abccccaaaaacaaaaaaccccaaaaaaccccccccccaaaaaaacccccccccaaaaaaacccccaaaaaaaaaacccccccccccccccccccaaaaaacccccccccaaaaaaaaccccccccccccccccccccccccccccccccccccccccaaaaa</td></tr><tr><td>2</td><td>abcccaaaaaccaaaaaaccccaaaaaaccccccaacccaaaaaacccccccccaaaaaacccaaaaaaaaaaaaaaacaaccacccccccccccaaaaaaccccccccccaaaaaacccccccccccccccccccccccccccccccccccccccccaaaaa</td></tr><tr><td>3</td><td>abccccccaaccaaaaaaccaaaaaaaaccccccaaacaaaacaaacccccccaaaaaaaaccaaaaaaaaaaaaaaacaaaaacccccccccccccaaccccccccccccaaaaaaccccccccccccccccccccccccccccacccccccccccaaaaaa</td></tr><tr><td>4</td><td>abccccccccccaaccaaccaaaaccaacccccccaaaaaaaccccccccccaaaaaaaaaaaaaaaaaaaaaaaaaaaaaaacccccccaaaaccccccccccccccccaaaaaaaacccccccccccccccccccccccccccaaccccccccccccccaa</td></tr><tr><td>5</td><td>abcccccccaaaaacccaaaaaaaacccaaccccaaaaaaccccccccccccaaaaaaaaaaaaaaaacaaaaaaaccaaaaaaccccccaaaaaccccccccccccccaaaaaaaaaaccaccccccccccccccccccccccccaccccccccccccccca</td></tr><tr><td>6</td><td>abcccccccaaaaacccaaaaaaaaccaaaaccaaaaaaaaccccccccccccccaaacaaaaaaaaacaaaaaacccccaaaacccccaaaaaaccccccccccccccaaaaaaaaaaaaacccccccccccccccllllllccccdccccccccccccccc</td></tr><tr><td>7</td><td>abccccccaaaaaacccccaaaaccccaaaaacaaaaaaaaccccccccccccccaaacccccaaaccccaaaaaacccaaccccccccaaaaaacccccccccccccccccaaaaaaaaaacccccccccccccklllllllllcddddccaccaaaccccc</td></tr><tr><td>8</td><td>abccccccaaaaaacccccaaaaaaaaaaaaaaaccaaccccccaacaacccccccaaccccccccccccaaacaacccccccccccccaaaaaacccccccccccccccccaaaaaaaaaacccccccccccckklllppllllcddddddddaaaaccccc</td></tr><tr><td>9</td><td>abccccccaaaaaaccccaaacaaaaaaaaaaaaccaaccccccaaaaaccccccccccccccccccccccccccccccccccccccccccaaccccccaaccccccccccccaacaaaaaaaccccccccccckklpppppplllmdddddddddacccccc</td></tr></tbody></table><style>\r\n",
       ".dni-code-hint {\r\n",
       "    font-style: italic;\r\n",
       "    overflow: hidden;\r\n",
       "    white-space: nowrap;\r\n",
       "}\r\n",
       ".dni-treeview {\r\n",
       "    white-space: nowrap;\r\n",
       "}\r\n",
       ".dni-treeview td {\r\n",
       "    vertical-align: top;\r\n",
       "    text-align: start;\r\n",
       "}\r\n",
       "details.dni-treeview {\r\n",
       "    padding-left: 1em;\r\n",
       "}\r\n",
       "table td {\r\n",
       "    text-align: start;\r\n",
       "}\r\n",
       "table tr { \r\n",
       "    vertical-align: top; \r\n",
       "    margin: 0em 0px;\r\n",
       "}\r\n",
       "table tr td pre \r\n",
       "{ \r\n",
       "    vertical-align: top !important; \r\n",
       "    margin: 0em 0px !important;\r\n",
       "} \r\n",
       "table th {\r\n",
       "    text-align: start;\r\n",
       "}\r\n",
       "</style>"
      ]
     },
     "metadata": {},
     "output_type": "display_data"
    }
   ],
   "source": [
    "var input = System.IO.File.ReadAllLines(\"input.txt\");\n",
    "input.Take(10)"
   ]
  },
  {
   "cell_type": "code",
   "execution_count": 24,
   "metadata": {
    "dotnet_interactive": {
     "language": "csharp"
    },
    "polyglot_notebook": {
     "kernelName": "csharp"
    },
    "vscode": {
     "languageId": "polyglot-notebook"
    }
   },
   "outputs": [],
   "source": [
    "public record struct Position {\n",
    "    public int X;\n",
    "    public int Y;\n",
    "\n",
    "    public static Position operator+(Position position, Position other) {\n",
    "        return new Position {\n",
    "            X = position.X + other.X,\n",
    "            Y = position.Y + other.Y,\n",
    "        };\n",
    "    }\n",
    "    \n",
    "    public static Position operator-(Position position, Position other) {\n",
    "        return new Position {\n",
    "            X = position.X - other.X,\n",
    "            Y = position.Y - other.Y,\n",
    "        };\n",
    "    }\n",
    "}\n",
    "\n",
    "int ParseElevation(char c) {\n",
    "    return c switch {\n",
    "        'S' => 1,\n",
    "        'E' => 26,\n",
    "        _ => c - 'a' + 1,\n",
    "    };\n",
    "}\n",
    "\n",
    "public record struct Map {\n",
    "    public Dictionary<Position, int> Elevations;\n",
    "    public Position Start;\n",
    "    public Position End;\n",
    "}\n",
    "\n",
    "Map ParseMap(IEnumerable<string> input) {\n",
    "    var elevation = new Dictionary<Position, int>();\n",
    "    Position? start = null;\n",
    "    Position? end  = null;\n",
    "    foreach ((string line, int y) in input.Select((line, y) => (line, y))) {\n",
    "        foreach ((char c, int x) in line.Select((c, x) => (c, x))) {\n",
    "            elevation.Add(new Position { X = x, Y = y}, ParseElevation(c));\n",
    "            if (c == 'S') {\n",
    "                start = new Position { X = x, Y = y };\n",
    "            }\n",
    "            if (c == 'E') {\n",
    "                end = new Position { X = x, Y = y };\n",
    "            }\n",
    "        }\n",
    "    }\n",
    "    return new Map {\n",
    "        Elevations = elevation,\n",
    "        Start = (Position) start,\n",
    "        End = (Position) end,\n",
    "    };\n",
    "}\n",
    "\n",
    "public record struct ExploreAction {\n",
    "    public Position Position;\n",
    "    public int steps;\n",
    "}\n",
    "\n",
    "public int ExploreMap(Map map) {\n",
    "    var deltas = new List<Position> {\n",
    "        new Position { X = 1, Y = 0 },\n",
    "        new Position { X = -1, Y = 0 },\n",
    "        new Position { X = 0, Y = 1 },\n",
    "        new Position { X = 0, Y = -1 },\n",
    "    };\n",
    "\n",
    "    var seenPositions = new HashSet<Position>();\n",
    "    var positionsToExplore = new PriorityQueue<ExploreAction, int>();\n",
    "    positionsToExplore.Enqueue(new ExploreAction { Position = map.Start, steps = 0 }, 0);\n",
    "\n",
    "    while(positionsToExplore.TryDequeue(out ExploreAction nextPositionToExplore, out int steps)) {\n",
    "        var currentPosition = nextPositionToExplore.Position;\n",
    "        if (currentPosition == map.End) {\n",
    "            return steps;\n",
    "        }\n",
    "        if (seenPositions.Contains(currentPosition)) {\n",
    "            continue;\n",
    "        }\n",
    "\n",
    "        var newPositions = deltas.Select(d => currentPosition + d);\n",
    "        foreach (var newPos in newPositions) {\n",
    "            if (map.Elevations.ContainsKey(newPos) && !seenPositions.Contains(currentPosition)) {\n",
    "                if (map.Elevations[newPos] < map.Elevations[currentPosition] + 2) {\n",
    "                    positionsToExplore.Enqueue(new ExploreAction { Position = newPos, steps = steps + 1 }, steps + 1);\n",
    "                }\n",
    "            }\n",
    "        }\n",
    "\n",
    "        seenPositions.Add(currentPosition);\n",
    "    }\n",
    "    throw new System.InvalidOperationException(\"No route found\");\n",
    "}\n",
    "\n",
    "public int FindTrail(Map map) {\n",
    "    var deltas = new List<Position> {\n",
    "        new Position { X = 1, Y = 0 },\n",
    "        new Position { X = -1, Y = 0 },\n",
    "        new Position { X = 0, Y = 1 },\n",
    "        new Position { X = 0, Y = -1 },\n",
    "    };\n",
    "\n",
    "    var seenPositions = new HashSet<Position>();\n",
    "    var positionsToExplore = new PriorityQueue<ExploreAction, int>();\n",
    "    positionsToExplore.Enqueue(new ExploreAction { Position = map.End, steps = 0 }, 0);\n",
    "\n",
    "    while(positionsToExplore.TryDequeue(out ExploreAction nextPositionToExplore, out int steps)) {\n",
    "        var currentPosition = nextPositionToExplore.Position;\n",
    "        if (map.Elevations[currentPosition] == 1) {\n",
    "            return steps;\n",
    "        }\n",
    "        if (seenPositions.Contains(currentPosition)) {\n",
    "            continue;\n",
    "        }\n",
    "\n",
    "        var newPositions = deltas.Select(d => currentPosition + d);\n",
    "        foreach (var newPos in newPositions) {\n",
    "            if (map.Elevations.ContainsKey(newPos) && !seenPositions.Contains(currentPosition)) {\n",
    "                if (map.Elevations[newPos] > map.Elevations[currentPosition] - 2) {\n",
    "                    positionsToExplore.Enqueue(new ExploreAction { Position = newPos, steps = steps + 1 }, steps + 1);\n",
    "                }\n",
    "            }\n",
    "        }\n",
    "\n",
    "        seenPositions.Add(currentPosition);\n",
    "    }\n",
    "    throw new System.InvalidOperationException(\"No route found\");\n",
    "}"
   ]
  },
  {
   "cell_type": "code",
   "execution_count": 25,
   "metadata": {
    "dotnet_interactive": {
     "language": "csharp"
    },
    "polyglot_notebook": {
     "kernelName": "csharp"
    },
    "vscode": {
     "languageId": "polyglot-notebook"
    }
   },
   "outputs": [
    {
     "data": {
      "text/html": [
       "<div class=\"dni-plaintext\"><pre>534</pre></div><style>\r\n",
       ".dni-code-hint {\r\n",
       "    font-style: italic;\r\n",
       "    overflow: hidden;\r\n",
       "    white-space: nowrap;\r\n",
       "}\r\n",
       ".dni-treeview {\r\n",
       "    white-space: nowrap;\r\n",
       "}\r\n",
       ".dni-treeview td {\r\n",
       "    vertical-align: top;\r\n",
       "    text-align: start;\r\n",
       "}\r\n",
       "details.dni-treeview {\r\n",
       "    padding-left: 1em;\r\n",
       "}\r\n",
       "table td {\r\n",
       "    text-align: start;\r\n",
       "}\r\n",
       "table tr { \r\n",
       "    vertical-align: top; \r\n",
       "    margin: 0em 0px;\r\n",
       "}\r\n",
       "table tr td pre \r\n",
       "{ \r\n",
       "    vertical-align: top !important; \r\n",
       "    margin: 0em 0px !important;\r\n",
       "} \r\n",
       "table th {\r\n",
       "    text-align: start;\r\n",
       "}\r\n",
       "</style>"
      ]
     },
     "metadata": {},
     "output_type": "display_data"
    }
   ],
   "source": [
    "var map = ParseMap(input);\n",
    "ExploreMap(map)"
   ]
  },
  {
   "attachments": {},
   "cell_type": "markdown",
   "metadata": {
    "dotnet_interactive": {
     "language": "csharp"
    },
    "polyglot_notebook": {
     "kernelName": "csharp"
    }
   },
   "source": [
    "--- Part Two ---\n",
    "\n",
    "As you walk up the hill, you suspect that the Elves will want to turn this into a hiking trail. The beginning isn't very scenic, though; perhaps you can find a better starting point.\n",
    "\n",
    "To maximize exercise while hiking, the trail should start as low as possible: elevation a. The goal is still the square marked E. However, the trail should still be direct, taking the fewest steps to reach its goal. So, you'll need to find the shortest path from any square at elevation a to the square marked E.\n",
    "\n",
    "Again consider the example from above:\n",
    "```\n",
    "Sabqponm\n",
    "abcryxxl\n",
    "accszExk\n",
    "acctuvwj\n",
    "abdefghi\n",
    "```\n",
    "Now, there are six choices for starting position (five marked a, plus the square marked S that counts as being at elevation a). If you start at the bottom-left square, you can reach the goal most quickly:\n",
    "```\n",
    "...v<<<<\n",
    "...vv<<^\n",
    "...v>E^^\n",
    ".>v>>>^^\n",
    ">^>>>>>^\n",
    "```\n",
    "This path reaches the goal in only 29 steps, the fewest possible."
   ]
  },
  {
   "cell_type": "code",
   "execution_count": 26,
   "metadata": {
    "dotnet_interactive": {
     "language": "csharp"
    },
    "polyglot_notebook": {
     "kernelName": "csharp"
    },
    "vscode": {
     "languageId": "polyglot-notebook"
    }
   },
   "outputs": [
    {
     "data": {
      "text/html": [
       "<div class=\"dni-plaintext\"><pre>525</pre></div><style>\r\n",
       ".dni-code-hint {\r\n",
       "    font-style: italic;\r\n",
       "    overflow: hidden;\r\n",
       "    white-space: nowrap;\r\n",
       "}\r\n",
       ".dni-treeview {\r\n",
       "    white-space: nowrap;\r\n",
       "}\r\n",
       ".dni-treeview td {\r\n",
       "    vertical-align: top;\r\n",
       "    text-align: start;\r\n",
       "}\r\n",
       "details.dni-treeview {\r\n",
       "    padding-left: 1em;\r\n",
       "}\r\n",
       "table td {\r\n",
       "    text-align: start;\r\n",
       "}\r\n",
       "table tr { \r\n",
       "    vertical-align: top; \r\n",
       "    margin: 0em 0px;\r\n",
       "}\r\n",
       "table tr td pre \r\n",
       "{ \r\n",
       "    vertical-align: top !important; \r\n",
       "    margin: 0em 0px !important;\r\n",
       "} \r\n",
       "table th {\r\n",
       "    text-align: start;\r\n",
       "}\r\n",
       "</style>"
      ]
     },
     "metadata": {},
     "output_type": "display_data"
    }
   ],
   "source": [
    "var map = ParseMap(input);\n",
    "FindTrail(map)"
   ]
  }
 ],
 "metadata": {
  "kernelspec": {
   "display_name": ".NET (C#)",
   "language": "C#",
   "name": ".net-csharp"
  },
  "polyglot_notebook": {
   "kernelInfo": {
    "defaultKernelName": "csharp",
    "items": [
     {
      "aliases": [
       "c#",
       "C#"
      ],
      "languageName": "C#",
      "name": "csharp"
     },
     {
      "aliases": [
       "frontend"
      ],
      "languageName": null,
      "name": "vscode"
     }
    ]
   }
  }
 },
 "nbformat": 4,
 "nbformat_minor": 2
}
