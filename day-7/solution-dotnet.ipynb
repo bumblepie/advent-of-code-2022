{
 "cells": [
  {
   "cell_type": "markdown",
   "metadata": {},
   "source": [
    "--- Day 7: No Space Left On Device ---\n",
    "\n",
    "You can hear birds chirping and raindrops hitting leaves as the expedition proceeds. Occasionally, you can even hear much louder sounds in the distance; how big do the animals get out here, anyway?\n",
    "\n",
    "The device the Elves gave you has problems with more than just its communication system. You try to run a system update:\n",
    "\n",
    "```\n",
    "$ system-update --please --pretty-please-with-sugar-on-top\n",
    "Error: No space left on device\n",
    "```\n",
    "\n",
    "Perhaps you can delete some files to make space for the update?\n",
    "\n",
    "You browse around the filesystem to assess the situation and save the resulting terminal output (your puzzle input). For example:\n",
    "\n",
    "```\n",
    "$ cd /\n",
    "$ ls\n",
    "dir a\n",
    "14848514 b.txt\n",
    "8504156 c.dat\n",
    "dir d\n",
    "$ cd a\n",
    "$ ls\n",
    "dir e\n",
    "29116 f\n",
    "2557 g\n",
    "62596 h.lst\n",
    "$ cd e\n",
    "$ ls\n",
    "584 i\n",
    "$ cd ..\n",
    "$ cd ..\n",
    "$ cd d\n",
    "$ ls\n",
    "4060174 j\n",
    "8033020 d.log\n",
    "5626152 d.ext\n",
    "7214296 k\n",
    "```\n",
    "\n",
    "The filesystem consists of a tree of files (plain data) and directories (which can contain other directories or files). The outermost directory is called /. You can navigate around the filesystem, moving into or out of directories and listing the contents of the directory you're currently in.\n",
    "\n",
    "Within the terminal output, lines that begin with $ are commands you executed, very much like some modern computers:\n",
    "\n",
    "    cd means change directory. This changes which directory is the current directory, but the specific result depends on the argument:\n",
    "        cd x moves in one level: it looks in the current directory for the directory named x and makes it the current directory.\n",
    "        cd .. moves out one level: it finds the directory that contains the current directory, then makes that directory the current directory.\n",
    "        cd / switches the current directory to the outermost directory, /.\n",
    "    ls means list. It prints out all of the files and directories immediately contained by the current directory:\n",
    "        123 abc means that the current directory contains a file named abc with size 123.\n",
    "        dir xyz means that the current directory contains a directory named xyz.\n",
    "\n",
    "Given the commands and output in the example above, you can determine that the filesystem looks visually like this:\n",
    "\n",
    "```\n",
    "- / (dir)\n",
    "  - a (dir)\n",
    "    - e (dir)\n",
    "      - i (file, size=584)\n",
    "    - f (file, size=29116)\n",
    "    - g (file, size=2557)\n",
    "    - h.lst (file, size=62596)\n",
    "  - b.txt (file, size=14848514)\n",
    "  - c.dat (file, size=8504156)\n",
    "  - d (dir)\n",
    "    - j (file, size=4060174)\n",
    "    - d.log (file, size=8033020)\n",
    "    - d.ext (file, size=5626152)\n",
    "    - k (file, size=7214296)\n",
    "```\n",
    "\n",
    "Here, there are four directories: / (the outermost directory), a and d (which are in /), and e (which is in a). These directories also contain files of various sizes.\n",
    "\n",
    "Since the disk is full, your first step should probably be to find directories that are good candidates for deletion. To do this, you need to determine the total size of each directory. The total size of a directory is the sum of the sizes of the files it contains, directly or indirectly. (Directories themselves do not count as having any intrinsic size.)\n",
    "\n",
    "The total sizes of the directories above can be found as follows:\n",
    "\n",
    "    The total size of directory e is 584 because it contains a single file i of size 584 and no other directories.\n",
    "    The directory a has total size 94853 because it contains files f (size 29116), g (size 2557), and h.lst (size 62596), plus file i indirectly (a contains e which contains i).\n",
    "    Directory d has total size 24933642.\n",
    "    As the outermost directory, / contains every file. Its total size is 48381165, the sum of the size of every file.\n",
    "\n",
    "To begin, find all of the directories with a total size of at most 100000, then calculate the sum of their total sizes. In the example above, these directories are a and e; the sum of their total sizes is 95437 (94853 + 584). (As in this example, this process can count files more than once!)\n",
    "\n",
    "Find all of the directories with a total size of at most 100000. What is the sum of the total sizes of those directories?\n"
   ]
  },
  {
   "cell_type": "code",
   "execution_count": 177,
   "metadata": {
    "dotnet_interactive": {
     "language": "csharp"
    },
    "vscode": {
     "languageId": "dotnet-interactive.csharp"
    }
   },
   "outputs": [],
   "source": [
    "// Functions and Data Types\n",
    "using System.Text.RegularExpressions;\n",
    "\n",
    "var path = new Stack<string>();\n",
    "\n",
    "var ChangeDirectoryCommandRegex = new Regex(@\"\\$ cd (.+)\");\n",
    "var FileWithSizeRegex = new Regex(@\"(\\d+) (.+)\");\n",
    "var DirectoryRegex = new Regex(@\"dir (.+)\");\n",
    "\n",
    "// Trees would probably be more efficient but this works too\n",
    "(Dictionary<string, int>, List<string>) ParseInput(IEnumerable<string> input) {\n",
    "    var files = new Dictionary<string, int>();\n",
    "    var directories = new List<string>();\n",
    "    foreach(var line in input) {\n",
    "        if (ChangeDirectoryCommandRegex.IsMatch(line)) {\n",
    "            var directory = ChangeDirectoryCommandRegex.Match(line).Groups[1].Value;\n",
    "            if (directory == \"..\") {\n",
    "                path.Pop();\n",
    "            } else {\n",
    "                path.Push(directory);\n",
    "                var dirPath = $\"{string.Join(\"/\", path)}\";\n",
    "                if (directories.Contains(dirPath) is false) {\n",
    "                    directories.Add(dirPath);\n",
    "                }\n",
    "            }\n",
    "        } else if (FileWithSizeRegex.IsMatch(line)) {\n",
    "            var groups = FileWithSizeRegex.Match(line).Groups;\n",
    "            var fileSize = int.Parse(groups[1].Value);\n",
    "            var fileName = groups[2].Value;\n",
    "            var pathSections = path.AsEnumerable().Reverse().Append(fileName);\n",
    "            var filePath = $\"{string.Join(\"/\", pathSections)}\";\n",
    "            if (files.ContainsKey(filePath) is false) {\n",
    "                files.Add(filePath, fileSize);\n",
    "            }\n",
    "        } else if (DirectoryRegex.IsMatch(line)) {\n",
    "            var directory = DirectoryRegex.Match(line).Groups[1].Value;\n",
    "            var pathSections = path.AsEnumerable().Reverse().Append(directory);\n",
    "            var dirPath = $\"{string.Join(\"/\", pathSections)}\";\n",
    "            if (directories.Contains(dirPath) is false) {\n",
    "                directories.Add(dirPath);\n",
    "            }\n",
    "        }\n",
    "    }\n",
    "    return (files, directories);\n",
    "}"
   ]
  },
  {
   "cell_type": "code",
   "execution_count": 178,
   "metadata": {
    "dotnet_interactive": {
     "language": "csharp"
    },
    "vscode": {
     "languageId": "dotnet-interactive.csharp"
    }
   },
   "outputs": [
    {
     "data": {
      "text/html": [
       "<table><thead><tr><th><i>index</i></th><th>value</th></tr></thead><tbody><tr><td>0</td><td>$ cd /</td></tr><tr><td>1</td><td>$ ls</td></tr><tr><td>2</td><td>246027 gldg.jrd</td></tr><tr><td>3</td><td>dir qffvbf</td></tr><tr><td>4</td><td>dir qjjgh</td></tr><tr><td>5</td><td>dir vpjqpqfm</td></tr><tr><td>6</td><td>$ cd qffvbf</td></tr><tr><td>7</td><td>$ ls</td></tr><tr><td>8</td><td>dir dcqf</td></tr><tr><td>9</td><td>dir grcj</td></tr></tbody></table>"
      ]
     },
     "metadata": {},
     "output_type": "display_data"
    }
   ],
   "source": [
    "var input = System.IO.File.ReadAllLines(\"input.txt\");\n",
    "input.Take(10)"
   ]
  },
  {
   "cell_type": "code",
   "execution_count": 179,
   "metadata": {
    "dotnet_interactive": {
     "language": "csharp"
    },
    "vscode": {
     "languageId": "dotnet-interactive.csharp"
    }
   },
   "outputs": [
    {
     "data": {
      "text/html": [
       "<div class=\"dni-plaintext\">1792222</div>"
      ]
     },
     "metadata": {},
     "output_type": "display_data"
    }
   ],
   "source": [
    "// Part 1\n",
    "(var files, var directories) = ParseInput(input);\n",
    "directories.Select(directory => files.Where(kvp => kvp.Key.StartsWith(directory))\n",
    "        .Select(kvp => kvp.Value)\n",
    "        .Sum()\n",
    "    )\n",
    "    .Where(dirSize => dirSize < 100000)\n",
    "    .Sum()"
   ]
  },
  {
   "cell_type": "code",
   "execution_count": 181,
   "metadata": {
    "dotnet_interactive": {
     "language": "csharp"
    },
    "vscode": {
     "languageId": "dotnet-interactive.csharp"
    }
   },
   "outputs": [
    {
     "data": {
      "text/html": [
       "<div class=\"dni-plaintext\">1112963</div>"
      ]
     },
     "metadata": {},
     "output_type": "display_data"
    }
   ],
   "source": [
    "// Part 2\n",
    "(var files, var directories) = ParseInput(input);\n",
    "var currentTotalSize = files.Values.Sum();\n",
    "var freeSpace = 70000000 - currentTotalSize;\n",
    "var spaceToDelete = 30000000 - freeSpace;\n",
    "\n",
    "directories.Select(directory => files.Where(kvp => kvp.Key.StartsWith(directory))\n",
    "    .Select(kvp => kvp.Value)\n",
    "    .Sum()\n",
    "    )\n",
    "    .Where(dirSize => dirSize >= spaceToDelete)\n",
    "    .Min()"
   ]
  }
 ],
 "metadata": {
  "kernelspec": {
   "display_name": ".NET (C#)",
   "language": "C#",
   "name": ".net-csharp"
  },
  "language_info": {
   "file_extension": ".cs",
   "mimetype": "text/x-csharp",
   "name": "C#",
   "pygments_lexer": "csharp",
   "version": "10.0"
  },
  "orig_nbformat": 4
 },
 "nbformat": 4,
 "nbformat_minor": 2
}
