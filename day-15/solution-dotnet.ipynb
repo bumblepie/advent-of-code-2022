{
 "cells": [
  {
   "attachments": {},
   "cell_type": "markdown",
   "metadata": {},
   "source": [
    "--- Day 15: Beacon Exclusion Zone ---\n",
    "\n",
    "You feel the ground rumble again as the distress signal leads you to a large network of subterranean tunnels. You don't have time to search them all, but you don't need to: your pack contains a set of deployable sensors that you imagine were originally built to locate lost Elves.\n",
    "\n",
    "The sensors aren't very powerful, but that's okay; your handheld device indicates that you're close enough to the source of the distress signal to use them. You pull the emergency sensor system out of your pack, hit the big button on top, and the sensors zoom off down the tunnels.\n",
    "\n",
    "Once a sensor finds a spot it thinks will give it a good reading, it attaches itself to a hard surface and begins monitoring for the nearest signal source beacon. Sensors and beacons always exist at integer coordinates. Each sensor knows its own position and can determine the position of a beacon precisely; however, sensors can only lock on to the one beacon closest to the sensor as measured by the Manhattan distance. (There is never a tie where two beacons are the same distance to a sensor.)\n",
    "\n",
    "It doesn't take long for the sensors to report back their positions and closest beacons (your puzzle input). For example:\n",
    "```\n",
    "Sensor at x=2, y=18: closest beacon is at x=-2, y=15\n",
    "Sensor at x=9, y=16: closest beacon is at x=10, y=16\n",
    "Sensor at x=13, y=2: closest beacon is at x=15, y=3\n",
    "Sensor at x=12, y=14: closest beacon is at x=10, y=16\n",
    "Sensor at x=10, y=20: closest beacon is at x=10, y=16\n",
    "Sensor at x=14, y=17: closest beacon is at x=10, y=16\n",
    "Sensor at x=8, y=7: closest beacon is at x=2, y=10\n",
    "Sensor at x=2, y=0: closest beacon is at x=2, y=10\n",
    "Sensor at x=0, y=11: closest beacon is at x=2, y=10\n",
    "Sensor at x=20, y=14: closest beacon is at x=25, y=17\n",
    "Sensor at x=17, y=20: closest beacon is at x=21, y=22\n",
    "Sensor at x=16, y=7: closest beacon is at x=15, y=3\n",
    "Sensor at x=14, y=3: closest beacon is at x=15, y=3\n",
    "Sensor at x=20, y=1: closest beacon is at x=15, y=3\n",
    "```\n",
    "So, consider the sensor at 2,18; the closest beacon to it is at -2,15. For the sensor at 9,16, the closest beacon to it is at 10,16.\n",
    "\n",
    "Drawing sensors as S and beacons as B, the above arrangement of sensors and beacons looks like this:\n",
    "```\n",
    "               1    1    2    2\n",
    "     0    5    0    5    0    5\n",
    " 0 ....S.......................\n",
    " 1 ......................S.....\n",
    " 2 ...............S............\n",
    " 3 ................SB..........\n",
    " 4 ............................\n",
    " 5 ............................\n",
    " 6 ............................\n",
    " 7 ..........S.......S.........\n",
    " 8 ............................\n",
    " 9 ............................\n",
    "10 ....B.......................\n",
    "11 ..S.........................\n",
    "12 ............................\n",
    "13 ............................\n",
    "14 ..............S.......S.....\n",
    "15 B...........................\n",
    "16 ...........SB...............\n",
    "17 ................S..........B\n",
    "18 ....S.......................\n",
    "19 ............................\n",
    "20 ............S......S........\n",
    "21 ............................\n",
    "22 .......................B....\n",
    "```\n",
    "This isn't necessarily a comprehensive map of all beacons in the area, though. Because each sensor only identifies its closest beacon, if a sensor detects a beacon, you know there are no other beacons that close or closer to that sensor. There could still be beacons that just happen to not be the closest beacon to any sensor. Consider the sensor at 8,7:\n",
    "```\n",
    "               1    1    2    2\n",
    "     0    5    0    5    0    5\n",
    "-2 ..........#.................\n",
    "-1 .........###................\n",
    " 0 ....S...#####...............\n",
    " 1 .......#######........S.....\n",
    " 2 ......#########S............\n",
    " 3 .....###########SB..........\n",
    " 4 ....#############...........\n",
    " 5 ...###############..........\n",
    " 6 ..#################.........\n",
    " 7 .#########S#######S#........\n",
    " 8 ..#################.........\n",
    " 9 ...###############..........\n",
    "10 ....B############...........\n",
    "11 ..S..###########............\n",
    "12 ......#########.............\n",
    "13 .......#######..............\n",
    "14 ........#####.S.......S.....\n",
    "15 B........###................\n",
    "16 ..........#SB...............\n",
    "17 ................S..........B\n",
    "18 ....S.......................\n",
    "19 ............................\n",
    "20 ............S......S........\n",
    "21 ............................\n",
    "22 .......................B....\n",
    "```\n",
    "This sensor's closest beacon is at 2,10, and so you know there are no beacons that close or closer (in any positions marked #).\n",
    "\n",
    "None of the detected beacons seem to be producing the distress signal, so you'll need to work out where the distress beacon is by working out where it isn't. For now, keep things simple by counting the positions where a beacon cannot possibly be along just a single row.\n",
    "\n",
    "So, suppose you have an arrangement of beacons and sensors like in the example above and, just in the row where y=10, you'd like to count the number of positions a beacon cannot possibly exist. The coverage from all sensors near that row looks like this:\n",
    "```\n",
    "                 1    1    2    2\n",
    "       0    5    0    5    0    5\n",
    " 9 ...#########################...\n",
    "10 ..####B######################..\n",
    "11 .###S#############.###########.\n",
    "```\n",
    "In this example, in the row where y=10, there are 26 positions where a beacon cannot be present.\n",
    "\n",
    "Consult the report from the sensors you just deployed. In the row where y=2000000, how many positions cannot contain a beacon?\n"
   ]
  },
  {
   "cell_type": "code",
   "execution_count": 35,
   "metadata": {
    "dotnet_interactive": {
     "language": "csharp"
    },
    "polyglot_notebook": {
     "kernelName": "csharp"
    },
    "vscode": {
     "languageId": "polyglot-notebook"
    }
   },
   "outputs": [],
   "source": [
    "// Data Types and Functions\n",
    "using System.Text.RegularExpressions;\n",
    "\n",
    "public record struct Position {\n",
    "    public int X;\n",
    "    public int Y;\n",
    "\n",
    "    public static Position operator+(Position position, Position other) {\n",
    "        return new Position {\n",
    "            X = position.X + other.X,\n",
    "            Y = position.Y + other.Y,\n",
    "        };\n",
    "    }\n",
    "    \n",
    "    public static Position operator-(Position position, Position other) {\n",
    "        return new Position {\n",
    "            X = position.X - other.X,\n",
    "            Y = position.Y - other.Y,\n",
    "        };\n",
    "    }\n",
    "}\n",
    "\n",
    "public record struct SensorReading {\n",
    "    public Position Sensor;\n",
    "    public Position NearestBeacon;\n",
    "\n",
    "    public int dist => Math.Abs(Sensor.X - NearestBeacon.X) + Math.Abs(Sensor.Y - NearestBeacon.Y);\n",
    "\n",
    "    // MinX may be higher than MaxX if the row is further away than the closest beacon\n",
    "    // This is intentional as it helps us in part 2 - we can adjust the covered range each row\n",
    "    // instead of recalculating this each time\n",
    "    public Bounds CoveredBoundsInRow(int y) {\n",
    "        var radius = dist - Math.Abs(Sensor.Y - y);\n",
    "        return new Bounds {\n",
    "            MinX = Sensor.X - radius,\n",
    "            MaxX = Sensor.X + radius,\n",
    "            MinY = y,\n",
    "            MaxY = y,\n",
    "        };\n",
    "    }\n",
    "}\n",
    "\n",
    "var SensorReadingRegex = new Regex(@\"Sensor at x=(-?\\d+), y=(-?\\d+): closest beacon is at x=(-?\\d+), y=(-?\\d+)\");\n",
    "SensorReading ParseLine(string line) {\n",
    "    var matchGroups = SensorReadingRegex.Match(line).Groups;\n",
    "    return new SensorReading {\n",
    "        Sensor = new Position {\n",
    "            X = int.Parse(matchGroups[1].Value),\n",
    "            Y = int.Parse(matchGroups[2].Value),\n",
    "        },\n",
    "        NearestBeacon = new Position {\n",
    "            X = int.Parse(matchGroups[3].Value),\n",
    "            Y = int.Parse(matchGroups[4].Value),\n",
    "        },\n",
    "    };\n",
    "}\n",
    "\n",
    "// I tried using record stucts as usual, but it seems in part 2 the overhead of recreating bounds\n",
    "// every row rather than adjusting existing ones was a significant part of the slowdown\n",
    "public class Bounds {\n",
    "    public int MinX { get; set; }\n",
    "    public int MaxX { get; set; }\n",
    "    public int MinY { get; set; }\n",
    "    public int MaxY { get; set; }\n",
    "}\n",
    "\n",
    "public class RowAndBounds {\n",
    "    public int SensorY { get; set; }\n",
    "    public Bounds Bounds { get; set; }\n",
    "}\n",
    "\n",
    "Position? FindBeacon(IEnumerable<SensorReading> readings, Bounds bounds) {\n",
    "    var rowBounds = readings.Select(reading => new RowAndBounds {\n",
    "            SensorY = reading.Sensor.Y,\n",
    "            Bounds = reading.CoveredBoundsInRow(bounds.MinY)\n",
    "        })\n",
    "        .ToList();\n",
    "\n",
    "    for (var y = bounds.MinY; y <= bounds.MaxY; y++) {\n",
    "        for (var x = bounds.MinX; x <= bounds.MaxX; x++) {\n",
    "            var covered = false;\n",
    "            \n",
    "            // Don't bother checking every cell, just skip to the end of each relevant sensor's\n",
    "            // covering range within this row when we hit it. There aren't many sensors so this\n",
    "            // doesn't scale too badly\n",
    "            foreach(var rowbound in rowBounds) {\n",
    "                if (x >= rowbound.Bounds.MinX && x <= rowbound.Bounds.MaxX) {\n",
    "                    covered = true;\n",
    "                    x = rowbound.Bounds.MaxX;\n",
    "                }\n",
    "            }\n",
    "            if (!covered) {\n",
    "                return new Position { X = x, Y = y };\n",
    "            }\n",
    "        }\n",
    "\n",
    "        // Adjust bounds rather than recalculating them each row\n",
    "        rowBounds.ForEach(rowBound => {\n",
    "            if (y >= rowBound.SensorY) {\n",
    "                rowBound.Bounds.MinX += 1;\n",
    "                rowBound.Bounds.MaxX -= 1;\n",
    "            } else {\n",
    "                rowBound.Bounds.MinX -= 1;\n",
    "                rowBound.Bounds.MaxX += 1;\n",
    "            } \n",
    "        });\n",
    "    }\n",
    "    return null;\n",
    "}"
   ]
  },
  {
   "cell_type": "code",
   "execution_count": 36,
   "metadata": {
    "dotnet_interactive": {
     "language": "csharp"
    },
    "polyglot_notebook": {
     "kernelName": "csharp"
    },
    "vscode": {
     "languageId": "polyglot-notebook"
    }
   },
   "outputs": [
    {
     "data": {
      "text/html": [
       "<table><thead><tr><th><i>index</i></th><th>value</th></tr></thead><tbody><tr><td>0</td><td>Sensor at x=251234, y=759482: closest beacon is at x=-282270, y=572396</td></tr><tr><td>1</td><td>Sensor at x=2866161, y=3374117: closest beacon is at x=2729330, y=3697325</td></tr><tr><td>2</td><td>Sensor at x=3999996, y=3520742: closest beacon is at x=3980421, y=3524442</td></tr><tr><td>3</td><td>Sensor at x=3988282, y=3516584: closest beacon is at x=3980421, y=3524442</td></tr><tr><td>4</td><td>Sensor at x=3005586, y=3018139: closest beacon is at x=2727127, y=2959718</td></tr><tr><td>5</td><td>Sensor at x=3413653, y=3519082: closest beacon is at x=3980421, y=3524442</td></tr><tr><td>6</td><td>Sensor at x=2900403, y=187208: closest beacon is at x=2732772, y=2000000</td></tr><tr><td>7</td><td>Sensor at x=1112429, y=3561166: closest beacon is at x=2729330, y=3697325</td></tr><tr><td>8</td><td>Sensor at x=3789925, y=3283328: closest beacon is at x=3980421, y=3524442</td></tr><tr><td>9</td><td>Sensor at x=3991533, y=3529053: closest beacon is at x=3980421, y=3524442</td></tr></tbody></table><style>\r\n",
       ".dni-code-hint {\r\n",
       "    font-style: italic;\r\n",
       "    overflow: hidden;\r\n",
       "    white-space: nowrap;\r\n",
       "}\r\n",
       ".dni-treeview {\r\n",
       "    white-space: nowrap;\r\n",
       "}\r\n",
       ".dni-treeview td {\r\n",
       "    vertical-align: top;\r\n",
       "    text-align: start;\r\n",
       "}\r\n",
       "details.dni-treeview {\r\n",
       "    padding-left: 1em;\r\n",
       "}\r\n",
       "table td {\r\n",
       "    text-align: start;\r\n",
       "}\r\n",
       "table tr { \r\n",
       "    vertical-align: top; \r\n",
       "    margin: 0em 0px;\r\n",
       "}\r\n",
       "table tr td pre \r\n",
       "{ \r\n",
       "    vertical-align: top !important; \r\n",
       "    margin: 0em 0px !important;\r\n",
       "} \r\n",
       "table th {\r\n",
       "    text-align: start;\r\n",
       "}\r\n",
       "</style>"
      ]
     },
     "metadata": {},
     "output_type": "display_data"
    }
   ],
   "source": [
    "var input = System.IO.File.ReadAllLines(\"input.txt\");\n",
    "\n",
    "/*\n",
    "var row = 10;\n",
    "var bounds = new Bounds {\n",
    "    MinX = 0,\n",
    "    MinY = 0,\n",
    "    MaxX = 20,\n",
    "    MaxY = 20,\n",
    "};\n",
    "*/\n",
    "\n",
    "var row = 2000000;\n",
    "var bounds = new Bounds {\n",
    "    MinX = 0,\n",
    "    MinY = 0,\n",
    "    MaxX = 4000000,\n",
    "    MaxY = 4000000,\n",
    "};\n",
    "\n",
    "input.Take(10)"
   ]
  },
  {
   "cell_type": "code",
   "execution_count": 37,
   "metadata": {
    "dotnet_interactive": {
     "language": "csharp"
    },
    "polyglot_notebook": {
     "kernelName": "csharp"
    },
    "vscode": {
     "languageId": "polyglot-notebook"
    }
   },
   "outputs": [
    {
     "data": {
      "text/html": [
       "<div class=\"dni-plaintext\"><pre>5688618</pre></div><style>\r\n",
       ".dni-code-hint {\r\n",
       "    font-style: italic;\r\n",
       "    overflow: hidden;\r\n",
       "    white-space: nowrap;\r\n",
       "}\r\n",
       ".dni-treeview {\r\n",
       "    white-space: nowrap;\r\n",
       "}\r\n",
       ".dni-treeview td {\r\n",
       "    vertical-align: top;\r\n",
       "    text-align: start;\r\n",
       "}\r\n",
       "details.dni-treeview {\r\n",
       "    padding-left: 1em;\r\n",
       "}\r\n",
       "table td {\r\n",
       "    text-align: start;\r\n",
       "}\r\n",
       "table tr { \r\n",
       "    vertical-align: top; \r\n",
       "    margin: 0em 0px;\r\n",
       "}\r\n",
       "table tr td pre \r\n",
       "{ \r\n",
       "    vertical-align: top !important; \r\n",
       "    margin: 0em 0px !important;\r\n",
       "} \r\n",
       "table th {\r\n",
       "    text-align: start;\r\n",
       "}\r\n",
       "</style>"
      ]
     },
     "metadata": {},
     "output_type": "display_data"
    }
   ],
   "source": [
    "// Part 1\n",
    "var readings = input.Select(ParseLine);\n",
    "var knownBeacons = readings.Select(reading => reading.NearestBeacon)\n",
    "    .ToHashSet();\n",
    "readings.Select(reading => reading.CoveredBoundsInRow(row))\n",
    "    .Where(bounds => bounds.MinX <= bounds.MaxX)\n",
    "    .SelectMany(bounds => Enumerable.Range(bounds.MinX, Math.Max(0, bounds.MaxX - bounds.MinX + 1)))\n",
    "    .Select(x => new Position { X = x, Y = row })\n",
    "    .ToHashSet()\n",
    "    .Except(knownBeacons)\n",
    "    .Count()"
   ]
  },
  {
   "attachments": {},
   "cell_type": "markdown",
   "metadata": {
    "dotnet_interactive": {
     "language": "csharp"
    },
    "polyglot_notebook": {
     "kernelName": "csharp"
    }
   },
   "source": [
    "Your handheld device indicates that the distress signal is coming from a beacon nearby. The distress beacon is not detected by any sensor, but the distress beacon must have x and y coordinates each no lower than 0 and no larger than 4000000.\n",
    "\n",
    "To isolate the distress beacon's signal, you need to determine its tuning frequency, which can be found by multiplying its x coordinate by 4000000 and then adding its y coordinate.\n",
    "\n",
    "In the example above, the search space is smaller: instead, the x and y coordinates can each be at most 20. With this reduced search area, there is only a single position that could have a beacon: x=14, y=11. The tuning frequency for this distress beacon is 56000011.\n",
    "\n",
    "Find the only possible position for the distress beacon. What is its tuning frequency?"
   ]
  },
  {
   "cell_type": "code",
   "execution_count": 38,
   "metadata": {
    "dotnet_interactive": {
     "language": "csharp"
    },
    "polyglot_notebook": {
     "kernelName": "csharp"
    },
    "vscode": {
     "languageId": "polyglot-notebook"
    }
   },
   "outputs": [
    {
     "data": {
      "text/html": [
       "<div class=\"dni-plaintext\"><pre>12625383204261</pre></div><style>\r\n",
       ".dni-code-hint {\r\n",
       "    font-style: italic;\r\n",
       "    overflow: hidden;\r\n",
       "    white-space: nowrap;\r\n",
       "}\r\n",
       ".dni-treeview {\r\n",
       "    white-space: nowrap;\r\n",
       "}\r\n",
       ".dni-treeview td {\r\n",
       "    vertical-align: top;\r\n",
       "    text-align: start;\r\n",
       "}\r\n",
       "details.dni-treeview {\r\n",
       "    padding-left: 1em;\r\n",
       "}\r\n",
       "table td {\r\n",
       "    text-align: start;\r\n",
       "}\r\n",
       "table tr { \r\n",
       "    vertical-align: top; \r\n",
       "    margin: 0em 0px;\r\n",
       "}\r\n",
       "table tr td pre \r\n",
       "{ \r\n",
       "    vertical-align: top !important; \r\n",
       "    margin: 0em 0px !important;\r\n",
       "} \r\n",
       "table th {\r\n",
       "    text-align: start;\r\n",
       "}\r\n",
       "</style>"
      ]
     },
     "metadata": {},
     "output_type": "display_data"
    }
   ],
   "source": [
    "// Part 2\n",
    "var readings = input.Select(ParseLine);\n",
    "Position beacon = (Position) FindBeacon(readings, bounds);\n",
    "(long) beacon.X * 4000000 + (long) beacon.Y"
   ]
  }
 ],
 "metadata": {
  "kernelspec": {
   "display_name": ".NET (C#)",
   "language": "C#",
   "name": ".net-csharp"
  },
  "polyglot_notebook": {
   "kernelInfo": {
    "defaultKernelName": "csharp",
    "items": [
     {
      "aliases": [],
      "name": "csharp"
     },
     {
      "aliases": [
       "js"
      ],
      "languageName": "JavaScript",
      "name": "javascript"
     },
     {
      "aliases": [],
      "name": "webview"
     },
     {
      "aliases": [
       "frontend"
      ],
      "languageName": null,
      "name": "vscode"
     }
    ]
   }
  }
 },
 "nbformat": 4,
 "nbformat_minor": 2
}
