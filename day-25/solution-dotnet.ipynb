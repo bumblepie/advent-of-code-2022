{
 "cells": [
  {
   "cell_type": "code",
   "execution_count": 14,
   "metadata": {
    "dotnet_interactive": {
     "language": "csharp"
    },
    "polyglot_notebook": {
     "kernelName": "csharp"
    }
   },
   "outputs": [],
   "source": [
    "public static long ParseCharacterToDecimal(char snafu) {\n",
    "    return snafu switch {\n",
    "        '=' => -2,\n",
    "        '-' => -1,\n",
    "        '0' => 0,\n",
    "        '1' => 1,\n",
    "        '2' => 2,\n",
    "        _ => throw new InvalidOperationException($\"Invalid character {snafu}\"),\n",
    "    };\n",
    "}\n",
    "\n",
    "public static long ParseStringToDecimal(string snafu) {\n",
    "    return snafu.Aggregate(0L, (total, nextChar) => total * 5L + ParseCharacterToDecimal(nextChar));\n",
    "}\n",
    "\n",
    "public static string Snafu(long @decimal) {\n",
    "    var current = @decimal + 2L;\n",
    "    var buffer = \"\";\n",
    "    while (current != 2L) {\n",
    "        var nextChar = (current % 5) switch {\n",
    "            0 => '=',\n",
    "            1 => '-',\n",
    "            2 => '0',\n",
    "            3 => '1',\n",
    "            4 => '2',\n",
    "        };\n",
    "        buffer = nextChar + buffer;\n",
    "        current = current / 5L + 2L;\n",
    "    }\n",
    "    return buffer;\n",
    "}"
   ]
  },
  {
   "cell_type": "code",
   "execution_count": 15,
   "metadata": {
    "dotnet_interactive": {
     "language": "csharp"
    },
    "polyglot_notebook": {
     "kernelName": "csharp"
    }
   },
   "outputs": [
    {
     "data": {
      "text/html": [
       "<table><thead><tr><th><i>index</i></th><th>value</th></tr></thead><tbody><tr><td>0</td><td>1212-2==</td></tr><tr><td>1</td><td>1=-=0111</td></tr><tr><td>2</td><td>1=22-20=--</td></tr><tr><td>3</td><td>12==001-</td></tr><tr><td>4</td><td>1000=001222212</td></tr><tr><td>5</td><td>1-00=-0=</td></tr><tr><td>6</td><td>1==-=011==-200-1-1</td></tr><tr><td>7</td><td>1=-20-</td></tr><tr><td>8</td><td>1=110-</td></tr><tr><td>9</td><td>1-20221-=00-002-1100</td></tr><tr><td>10</td><td>20-12--=0</td></tr><tr><td>11</td><td>21=202-2</td></tr><tr><td>12</td><td>22</td></tr><tr><td>13</td><td>2=121020110</td></tr><tr><td>14</td><td>1101-12-1=0</td></tr><tr><td>15</td><td>2-1-</td></tr><tr><td>16</td><td>201==1-112</td></tr><tr><td>17</td><td>102=110</td></tr><tr><td>18</td><td>11-212=001-2=20=000</td></tr><tr><td>19</td><td>211-210022021-0</td></tr><tr><td colspan=\"2\"><i>(90 more)</i></td></tr></tbody></table><style>\r\n",
       ".dni-code-hint {\r\n",
       "    font-style: italic;\r\n",
       "    overflow: hidden;\r\n",
       "    white-space: nowrap;\r\n",
       "}\r\n",
       ".dni-treeview {\r\n",
       "    white-space: nowrap;\r\n",
       "}\r\n",
       ".dni-treeview td {\r\n",
       "    vertical-align: top;\r\n",
       "    text-align: start;\r\n",
       "}\r\n",
       "details.dni-treeview {\r\n",
       "    padding-left: 1em;\r\n",
       "}\r\n",
       "table td {\r\n",
       "    text-align: start;\r\n",
       "}\r\n",
       "table tr { \r\n",
       "    vertical-align: top; \r\n",
       "    margin: 0em 0px;\r\n",
       "}\r\n",
       "table tr td pre \r\n",
       "{ \r\n",
       "    vertical-align: top !important; \r\n",
       "    margin: 0em 0px !important;\r\n",
       "} \r\n",
       "table th {\r\n",
       "    text-align: start;\r\n",
       "}\r\n",
       "</style>"
      ]
     },
     "metadata": {},
     "output_type": "display_data"
    }
   ],
   "source": [
    "// Read Input\n",
    "var input = System.IO.File.ReadAllLines(\"input.txt\");\n",
    "input"
   ]
  },
  {
   "cell_type": "code",
   "execution_count": 16,
   "metadata": {
    "dotnet_interactive": {
     "language": "csharp"
    },
    "polyglot_notebook": {
     "kernelName": "csharp"
    }
   },
   "outputs": [
    {
     "data": {
      "text/plain": [
       "2--2-0=--0--100-=210"
      ]
     },
     "metadata": {},
     "output_type": "display_data"
    }
   ],
   "source": [
    "// Part 1\n",
    "Snafu(input.Select(ParseStringToDecimal)\n",
    "    .Sum())"
   ]
  }
 ],
 "metadata": {
  "kernelspec": {
   "display_name": ".NET (C#)",
   "language": "C#",
   "name": ".net-csharp"
  },
  "polyglot_notebook": {
   "kernelInfo": {
    "defaultKernelName": "csharp",
    "items": [
     {
      "aliases": [
       "c#",
       "C#"
      ],
      "languageName": "C#",
      "name": "csharp"
     },
     {
      "aliases": [],
      "name": ".NET"
     },
     {
      "aliases": [
       "f#",
       "F#"
      ],
      "languageName": "F#",
      "name": "fsharp"
     },
     {
      "aliases": [],
      "languageName": "HTML",
      "name": "html"
     },
     {
      "aliases": [
       "js"
      ],
      "languageName": "JavaScript",
      "name": "javascript"
     },
     {
      "aliases": [],
      "languageName": "KQL",
      "name": "kql"
     },
     {
      "aliases": [],
      "languageName": "Mermaid",
      "name": "mermaid"
     },
     {
      "aliases": [
       "powershell"
      ],
      "languageName": "PowerShell",
      "name": "pwsh"
     },
     {
      "aliases": [],
      "languageName": "SQL",
      "name": "sql"
     },
     {
      "aliases": [],
      "name": "value"
     },
     {
      "aliases": [
       "frontend"
      ],
      "name": "vscode"
     },
     {
      "aliases": [],
      "name": "webview"
     }
    ]
   }
  }
 },
 "nbformat": 4,
 "nbformat_minor": 2
}
